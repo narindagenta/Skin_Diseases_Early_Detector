{
 "cells": [
  {
   "cell_type": "markdown",
   "id": "1604c5ab-3f87-4ad9-af44-bdb0ee7192fc",
   "metadata": {},
   "source": [
    "# KNN Classifier (Color Extraction)"
   ]
  },
  {
   "cell_type": "markdown",
   "id": "90f77792-227b-45ce-bea9-1c1bdc813a73",
   "metadata": {},
   "source": [
    "## Initiation"
   ]
  },
  {
   "cell_type": "code",
   "execution_count": 1,
   "id": "9bc51eae-91ec-4b06-8615-60b622117301",
   "metadata": {},
   "outputs": [],
   "source": [
    "# Import modules and packages\n",
    "import os\n",
    "import cv2\n",
    "import imutils\n",
    "import argparse\n",
    "import timeit\n",
    "import pickle\n",
    "import pandas as pd\n",
    "import numpy as np\n",
    "import splitfolders\n",
    "import seaborn as sns\n",
    "import ipywidgets as widgets\n",
    "import matplotlib.pyplot as plt"
   ]
  },
  {
   "cell_type": "code",
   "execution_count": 2,
   "id": "0a335346-2a71-45d7-8a7b-228795196ff9",
   "metadata": {},
   "outputs": [],
   "source": [
    "from PIL import Image\n",
    "from sklearn.neighbors import KNeighborsClassifier\n",
    "from sklearn.model_selection import train_test_split\n",
    "from sklearn.model_selection import cross_val_score\n",
    "from skimage.feature import hog\n",
    "from sklearn import metrics\n",
    "from sklearn.metrics import accuracy_score\n",
    "from sklearn.metrics import confusion_matrix\n",
    "from sklearn.metrics import classification_report\n",
    "from sklearn.metrics import roc_auc_score"
   ]
  },
  {
   "cell_type": "code",
   "execution_count": 3,
   "id": "4f28e739-63f8-4f83-819f-1f00a49db521",
   "metadata": {},
   "outputs": [],
   "source": [
    "# Define path\n",
    "data_path = r\"C:\\\\Users\\SMSK_Narinda\\Desktop\\Research\\dataset\""
   ]
  },
  {
   "cell_type": "code",
   "execution_count": 4,
   "id": "d06ba8f5-2525-487d-9e17-a004abfcc365",
   "metadata": {},
   "outputs": [
    {
     "name": "stdout",
     "output_type": "stream",
     "text": [
      "c:\\\\users\\smsk_narinda\\desktop\\research\\dataset\\acne and rosacea photos\n",
      "c:\\\\users\\smsk_narinda\\desktop\\research\\dataset\\actinic keratosis basal cell carcinoma and other malignant lesions\n",
      "c:\\\\users\\smsk_narinda\\desktop\\research\\dataset\\atopic dermatitis photos\n",
      "c:\\\\users\\smsk_narinda\\desktop\\research\\dataset\\bullous disease photos\n",
      "c:\\\\users\\smsk_narinda\\desktop\\research\\dataset\\cellulitis impetigo and other bacterial infections\n",
      "c:\\\\users\\smsk_narinda\\desktop\\research\\dataset\\eczema photos\n",
      "c:\\\\users\\smsk_narinda\\desktop\\research\\dataset\\exanthems and drug eruptions\n",
      "c:\\\\users\\smsk_narinda\\desktop\\research\\dataset\\hair loss photos alopecia and other hair diseases\n",
      "c:\\\\users\\smsk_narinda\\desktop\\research\\dataset\\herpes hpv and other stds photos\n",
      "c:\\\\users\\smsk_narinda\\desktop\\research\\dataset\\light diseases and disorders of pigmentation\n",
      "c:\\\\users\\smsk_narinda\\desktop\\research\\dataset\\lupus and other connective tissue diseases\n",
      "c:\\\\users\\smsk_narinda\\desktop\\research\\dataset\\melanoma skin cancer nevi and moles\n",
      "c:\\\\users\\smsk_narinda\\desktop\\research\\dataset\\nail fungus and other nail disease\n",
      "c:\\\\users\\smsk_narinda\\desktop\\research\\dataset\\poison ivy photos and other contact dermatitis\n",
      "c:\\\\users\\smsk_narinda\\desktop\\research\\dataset\\psoriasis pictures lichen planus and related diseases\n",
      "c:\\\\users\\smsk_narinda\\desktop\\research\\dataset\\scabies lyme disease and other infestations and bites\n",
      "c:\\\\users\\smsk_narinda\\desktop\\research\\dataset\\seborrheic keratoses and other benign tumors\n",
      "c:\\\\users\\smsk_narinda\\desktop\\research\\dataset\\systemic disease\n",
      "c:\\\\users\\smsk_narinda\\desktop\\research\\dataset\\tinea ringworm candidiasis and other fungal infections\n",
      "c:\\\\users\\smsk_narinda\\desktop\\research\\dataset\\urticaria hives\n",
      "c:\\\\users\\smsk_narinda\\desktop\\research\\dataset\\vascular tumors\n",
      "c:\\\\users\\smsk_narinda\\desktop\\research\\dataset\\vasculitis photos\n",
      "c:\\\\users\\smsk_narinda\\desktop\\research\\dataset\\warts molluscum and other viral infections\n"
     ]
    }
   ],
   "source": [
    "# Describe classes in dataset\n",
    "subfolders= [os.path.join(data_path, d) for d in os.listdir(data_path) if os.path.isdir(os.path.join(data_path, d))]\n",
    "labels = []\n",
    "\n",
    "for label in subfolders:\n",
    "    print(os.path.normcase(label))\n",
    "    labels.append(label)"
   ]
  },
  {
   "cell_type": "markdown",
   "id": "b40d77f3-ae76-4f32-b75e-94e561b8f923",
   "metadata": {},
   "source": [
    "## Preprocessing"
   ]
  },
  {
   "cell_type": "code",
   "execution_count": 5,
   "id": "54c1399c-b2db-49ec-a1bc-5e2c5dacaea4",
   "metadata": {},
   "outputs": [],
   "source": [
    "# Create extract color from image function.  \n",
    "def extract_color_histogram(image, bins=(32,32,32)):\n",
    "    # Extract 3d color by its hue, saturation, and vue (HSV)\n",
    "    hsv = cv2.cvtColor(image, cv2.COLOR_BGR2HSV)\n",
    "    hist = cv2.calcHist([hsv], [0,1,2], None, bins,\n",
    "                       [0, 180, 0 , 256, 0, 256])\n",
    "    \n",
    "    ### handle normalizing the historigram\n",
    "    if imutils.is_cv2():\n",
    "        hist = cv2.normalize(hist)\n",
    "    else :\n",
    "        cv2.normalize(hist,hist)\n",
    "        \n",
    "    return hist.flatten()"
   ]
  },
  {
   "cell_type": "code",
   "execution_count": 6,
   "id": "c36ae440-9efd-4fec-8424-420a294243f8",
   "metadata": {},
   "outputs": [],
   "source": [
    "# Initialize the raw pixel intensities matrix\n",
    "features = []\n",
    "labels = []"
   ]
  },
  {
   "cell_type": "code",
   "execution_count": null,
   "id": "c826d612-1c2d-4f71-b2da-fd0c57501a9e",
   "metadata": {},
   "outputs": [
    {
     "name": "stdout",
     "output_type": "stream",
     "text": [
      "[INFO] Iteration  1\n",
      "Processing for label C:\\\\Users\\SMSK_Narinda\\Desktop\\Research\\dataset\\Acne and Rosacea Photos\n",
      "Processing for label C:\\\\Users\\SMSK_Narinda\\Desktop\\Research\\dataset\\Actinic Keratosis Basal Cell Carcinoma and other Malignant Lesions\n",
      "Processing for label C:\\\\Users\\SMSK_Narinda\\Desktop\\Research\\dataset\\Atopic Dermatitis Photos\n",
      "Processing for label C:\\\\Users\\SMSK_Narinda\\Desktop\\Research\\dataset\\Bullous Disease Photos\n",
      "Processing for label C:\\\\Users\\SMSK_Narinda\\Desktop\\Research\\dataset\\Cellulitis Impetigo and other Bacterial Infections\n",
      "Processing for label C:\\\\Users\\SMSK_Narinda\\Desktop\\Research\\dataset\\Eczema Photos\n",
      "Processing for label C:\\\\Users\\SMSK_Narinda\\Desktop\\Research\\dataset\\Exanthems and Drug Eruptions\n",
      "Processing for label C:\\\\Users\\SMSK_Narinda\\Desktop\\Research\\dataset\\Hair Loss Photos Alopecia and other Hair Diseases\n",
      "Processing for label C:\\\\Users\\SMSK_Narinda\\Desktop\\Research\\dataset\\Herpes HPV and other STDs Photos\n",
      "Processing for label C:\\\\Users\\SMSK_Narinda\\Desktop\\Research\\dataset\\Light Diseases and Disorders of Pigmentation\n",
      "Processing for label C:\\\\Users\\SMSK_Narinda\\Desktop\\Research\\dataset\\Lupus and other Connective Tissue diseases\n",
      "Processing for label C:\\\\Users\\SMSK_Narinda\\Desktop\\Research\\dataset\\Melanoma Skin Cancer Nevi and Moles\n",
      "Processing for label C:\\\\Users\\SMSK_Narinda\\Desktop\\Research\\dataset\\Nail Fungus and other Nail Disease\n",
      "Processing for label C:\\\\Users\\SMSK_Narinda\\Desktop\\Research\\dataset\\Poison Ivy Photos and other Contact Dermatitis\n",
      "Processing for label C:\\\\Users\\SMSK_Narinda\\Desktop\\Research\\dataset\\Psoriasis pictures Lichen Planus and related diseases\n",
      "Processing for label C:\\\\Users\\SMSK_Narinda\\Desktop\\Research\\dataset\\Scabies Lyme Disease and other Infestations and Bites\n",
      "Processing for label C:\\\\Users\\SMSK_Narinda\\Desktop\\Research\\dataset\\Seborrheic Keratoses and other Benign Tumors\n",
      "Processing for label C:\\\\Users\\SMSK_Narinda\\Desktop\\Research\\dataset\\Systemic Disease\n",
      "Processing for label C:\\\\Users\\SMSK_Narinda\\Desktop\\Research\\dataset\\Tinea Ringworm Candidiasis and other Fungal Infections\n",
      "Processing for label C:\\\\Users\\SMSK_Narinda\\Desktop\\Research\\dataset\\Urticaria Hives\n",
      "Processing for label C:\\\\Users\\SMSK_Narinda\\Desktop\\Research\\dataset\\Vascular Tumors\n",
      "Processing for label C:\\\\Users\\SMSK_Narinda\\Desktop\\Research\\dataset\\Vasculitis Photos\n",
      "Processing for label C:\\\\Users\\SMSK_Narinda\\Desktop\\Research\\dataset\\Warts Molluscum and other Viral Infections\n",
      "[STOP] \n",
      "\n",
      "[INFO] Iteration  2\n",
      "Processing for label C:\\\\Users\\SMSK_Narinda\\Desktop\\Research\\dataset\\Acne and Rosacea Photos\n",
      "Processing for label C:\\\\Users\\SMSK_Narinda\\Desktop\\Research\\dataset\\Actinic Keratosis Basal Cell Carcinoma and other Malignant Lesions\n",
      "Processing for label C:\\\\Users\\SMSK_Narinda\\Desktop\\Research\\dataset\\Atopic Dermatitis Photos\n",
      "Processing for label C:\\\\Users\\SMSK_Narinda\\Desktop\\Research\\dataset\\Bullous Disease Photos\n",
      "Processing for label C:\\\\Users\\SMSK_Narinda\\Desktop\\Research\\dataset\\Cellulitis Impetigo and other Bacterial Infections\n",
      "Processing for label C:\\\\Users\\SMSK_Narinda\\Desktop\\Research\\dataset\\Eczema Photos\n"
     ]
    }
   ],
   "source": [
    "# Load image data with iteration and color extraction function\n",
    "for i in range (1,8):\n",
    "    # Inform iteration data\n",
    "    print(\"[INFO] Iteration \", i)\n",
    "    for classes in subfolders:\n",
    "        # Inform class label\n",
    "        print(\"Processing for label \" + classes)\n",
    "\n",
    "        # Iteration for image data\n",
    "        for filename in os.scandir(classes):\n",
    "            if filename.is_file():\n",
    "                # Get image's path from object filename\n",
    "                image_path = filename.path\n",
    "                \n",
    "                # Read image from image_path \n",
    "                image = cv2.imread(image_path)\n",
    "                \n",
    "                # Get label from the subfolder name \n",
    "                label = classes.split(os.path.sep)[-1]\n",
    "    \n",
    "                # Use extract_color_histogram function\n",
    "                # Features extraction from color histogram image \n",
    "                hist = extract_color_histogram(image)\n",
    "    \n",
    "                # Add to list\n",
    "                features.append(hist)\n",
    "                labels.append(label)\n",
    "                \n",
    "    print(\"[STOP] \\n\")"
   ]
  },
  {
   "cell_type": "code",
   "execution_count": null,
   "id": "0f9e69c2-1a0c-4f94-b48c-6555751177a8",
   "metadata": {},
   "outputs": [],
   "source": [
    "print(\"[INFO] Processed {} labels from {} subfolders\".format(len(labels), len(subfolders)))"
   ]
  },
  {
   "cell_type": "code",
   "execution_count": null,
   "id": "ee196d05-b90a-416c-9a68-20fc2480517f",
   "metadata": {},
   "outputs": [],
   "source": [
    "# Convert features and labels into array\n",
    "features = np.array(features)\n",
    "labels = np.array(labels)"
   ]
  },
  {
   "cell_type": "code",
   "execution_count": null,
   "id": "feabe9d8-57dd-46e3-b395-f7207ac869f5",
   "metadata": {},
   "outputs": [],
   "source": [
    "print(\"[INFO] Features matrix: {:.2f} MB\".format(\n",
    "\tfeatures.nbytes / (1024 * 1000.0)))\n",
    "print(\"[INFO] Features shape \", features.shape)\n",
    "print(\"[INFO] Labels shape \", labels.shape)"
   ]
  },
  {
   "cell_type": "code",
   "execution_count": null,
   "id": "d92c7f7a-643d-47cb-b903-ad65e8ccc475",
   "metadata": {},
   "outputs": [],
   "source": [
    "# Split dataset into training and testing set ratio 7 : 3\n",
    "(trainFeat, testFeat, trainLabels, testLabels) = train_test_split(\n",
    "\tfeatures, labels, test_size=0.3, random_state=42)\n",
    "\n",
    "# Split dataset into training and validation set ratio 9 : 1\n",
    "(X_train, x_val, Y_train, y_val) = train_test_split(\n",
    "\ttrainFeat, trainLabels, test_size=0.1, random_state=42)"
   ]
  },
  {
   "cell_type": "code",
   "execution_count": null,
   "id": "abd0afb9-b25e-49fe-b305-c76e7421a94d",
   "metadata": {},
   "outputs": [],
   "source": [
    "print('Train data shape: ', trainFeat.shape)\n",
    "print('Train labels shape: ', trainLabels.shape)\n",
    "print('Validation data shape: ', x_val.shape)\n",
    "print('Validation labels shape: ', y_val.shape)\n",
    "print('Test data shape: ', testFeat.shape)\n",
    "print('Test labels shape: ', testLabels.shape)"
   ]
  },
  {
   "cell_type": "markdown",
   "id": "48a48730-ec64-4670-8749-a8698ca0fb29",
   "metadata": {},
   "source": [
    "## Training Model"
   ]
  },
  {
   "cell_type": "code",
   "execution_count": null,
   "id": "59520eab-4fec-41d5-ab26-284ec48972aa",
   "metadata": {},
   "outputs": [],
   "source": [
    "knn = KNeighborsClassifier(n_neighbors=args.neighbors)"
   ]
  },
  {
   "cell_type": "code",
   "execution_count": null,
   "id": "6a261607-5209-4c09-bf3e-ce0716d70c3a",
   "metadata": {},
   "outputs": [],
   "source": [
    "print(\"[START] KNN Classifier start training the model\")\n",
    "\n",
    "# Define KNN model\n",
    "model = knn.fit(trainFeat, trainLabels)\n",
    "\n",
    "print('[STOP]')"
   ]
  },
  {
   "cell_type": "markdown",
   "id": "905bb324-bdce-45fb-b52b-912921cbdf63",
   "metadata": {},
   "source": [
    "## Evaluating Model; Model Summary"
   ]
  },
  {
   "cell_type": "code",
   "execution_count": null,
   "id": "167baecf-a43b-4e32-9874-3587ef7e167d",
   "metadata": {},
   "outputs": [],
   "source": [
    "# Model accuracy score\n",
    "acc = model.score(testFeat, testLabels)\n",
    "\n",
    "print(\"[SUMMARY]\")\n",
    "print(\"KNN classifier : k = %d\" % args.neighbors)\n",
    "print(\"Model accuracy : {:.2f}%\".format(acc * 100))"
   ]
  },
  {
   "cell_type": "code",
   "execution_count": null,
   "id": "c038e471-a267-4f53-8ce6-6a14c0b8fcc5",
   "metadata": {},
   "outputs": [],
   "source": [
    "# Cross Validation for model\n",
    "scores = cross_val_score(\n",
    "    model, trainFeat, trainLabels, \n",
    "    cv=5, scoring='accuracy')\n",
    "\n",
    "print(\"[INFO] Cross Validation Model Score : %0.2f (+/- %0.2f)\" \n",
    "      % (scores.mean()*100, scores.std()*2))\n",
    "print(\"[RESULT] Score mean: \", scores.mean()*100, '%')"
   ]
  },
  {
   "cell_type": "code",
   "execution_count": null,
   "id": "644b5f99-63de-4789-861d-b778d4f55baf",
   "metadata": {},
   "outputs": [],
   "source": [
    "# Additional statistic report of the model\n",
    "# Source report :\n",
    "# https://www.datasklr.com/select-classification-methods/k-nearest-neighbors\n",
    "\n",
    "# Reshape the arrays\n",
    "testLabels_encoded = testLabels_encoded.reshape(-1, 1)\n",
    "prediction_encoded = prediction_encoded.reshape(-1, 1)\n",
    "\n",
    "# Now you can use the reshaped arrays with sklearn metrics functions\n",
    "print('Average Precision : ', metrics.average_precision_score(testLabels_encoded, prediction_encoded)*100, '%') \n",
    "print('F1 Score : ', metrics.f1_score(testLabels_encoded, prediction_encoded, average='weighted')*100, '%')\n",
    "print('Precision : ', metrics.precision_score(testLabels_encoded, prediction_encoded, average='weighted')*100, '%')\n",
    "print('Recall : ', metrics.recall_score(testLabels_encoded, prediction_encoded, average='weighted')*100, '%')"
   ]
  },
  {
   "cell_type": "markdown",
   "id": "002fc8d8-656f-4338-b0df-73373dd02790",
   "metadata": {},
   "source": [
    "## Classification Report"
   ]
  },
  {
   "cell_type": "code",
   "execution_count": null,
   "id": "f2bb97db-f456-4e27-b27a-3518ae5f01a3",
   "metadata": {},
   "outputs": [],
   "source": [
    "# Describe unique classes in dataset\n",
    "classes = []\n",
    "for unique_class in subfolders:\n",
    "    # Get label from the subfolder name \n",
    "    label = unique_class.split(os.path.sep)[-1]\n",
    "    classes.append(label)\n",
    "\n",
    "# Describe classification report\n",
    "print(classification_report(testLabels, prediction, target_names=classes))"
   ]
  },
  {
   "cell_type": "markdown",
   "id": "34752a84-a8c4-4f72-99d8-a1f184a586c6",
   "metadata": {},
   "source": [
    "## Confussion Matrix"
   ]
  },
  {
   "cell_type": "code",
   "execution_count": null,
   "id": "d187319d-e043-43bc-9517-488f15f968bc",
   "metadata": {},
   "outputs": [],
   "source": [
    "prediction = model.predict(testFeat)"
   ]
  },
  {
   "cell_type": "code",
   "execution_count": null,
   "id": "0dcfa973-f408-41d1-bf5f-e96af628d536",
   "metadata": {},
   "outputs": [],
   "source": [
    "cf_matrix = confusion_matrix(testLabels, prediction)"
   ]
  },
  {
   "cell_type": "code",
   "execution_count": null,
   "id": "40626003-d7f5-4f35-b0f5-6ba04334d171",
   "metadata": {},
   "outputs": [],
   "source": [
    "plt.figure(figsize=(10, 7))\n",
    "sns.heatmap(cf_matrix, annot=True, fmt=\"d\", cmap=\"Blues\")\n",
    "plt.title(\"Confusion Matrix\")\n",
    "plt.xlabel(\"Predicted\")\n",
    "plt.ylabel(\"True\")\n",
    "plt.show()"
   ]
  },
  {
   "cell_type": "markdown",
   "id": "aa43a9c6-81ad-4825-8624-90bf6fe0fc6e",
   "metadata": {},
   "source": [
    "## Save Model"
   ]
  },
  {
   "cell_type": "code",
   "execution_count": null,
   "id": "6561fcd7-a824-436a-bb91-21c075eaee86",
   "metadata": {},
   "outputs": [],
   "source": [
    "pickle.dump(model,open('KNNClassifier.p','wb'))\n",
    "print(\"[INFO] Model is saved successfully\")"
   ]
  },
  {
   "cell_type": "markdown",
   "id": "c5bdd096-8a9d-4c80-a04e-614e6490ad9e",
   "metadata": {},
   "source": [
    "## Testing Model"
   ]
  },
  {
   "cell_type": "markdown",
   "id": "eb458a9c-1bb2-4d71-854b-154a3ed9472a",
   "metadata": {},
   "source": [
    "C:\\Users\\SMSK_Narinda\\Downloads\\melanoma.jpg\n",
    "Source contoh gambar : \"C:\\Users\\SMSK_Narinda\\Downloads\\089056200_1612266979-Melanoma.jpg\"\n",
    "https://www.klikdokter.com/info-sehat/kanker/perbedaan-kanker-kulit-melanoma-dan-karsinoma"
   ]
  },
  {
   "cell_type": "code",
   "execution_count": null,
   "id": "3bfa0510-94a0-42d7-9756-1435543728f6",
   "metadata": {},
   "outputs": [],
   "source": [
    "# Load model\n",
    "model = pickle.load(open('C:\\\\Users\\\\SMSK_Narinda\\\\Desktop\\\\Skripsi_Checkpoint_KNN_SVM_Dermnet\\\\Model\\\\KNNClassifier.p', 'rb'))\n",
    "print(\"[INFO] Model loaded successfully\")"
   ]
  },
  {
   "cell_type": "code",
   "execution_count": null,
   "id": "aa74d5c3-744c-4ee4-b717-d230a4144bf6",
   "metadata": {},
   "outputs": [],
   "source": [
    "# Input example image\n",
    "path = input('Enter URL of Image')\n",
    "\n",
    "# Mendapatkan label dari nama subfolder\n",
    "img_name = os.path.splitext(os.path.basename(path))[0]\n",
    "print(img_name)"
   ]
  },
  {
   "cell_type": "code",
   "execution_count": null,
   "id": "f8f98af4-c19a-40e4-9454-f1067a84d130",
   "metadata": {},
   "outputs": [],
   "source": [
    "# Fungsi untuk menguji gambar dan mendapatkan prediksi\n",
    "def test_image(model, image_path):\n",
    "    img = cv2.imread(image_path)\n",
    "    img = cv2.cvtColor(img, cv2.COLOR_BGR2RGB)\n",
    "    test_image = extract_color_histogram(img)\n",
    "    test_feature = np.array(test_image).reshape(1, -1)\n",
    "    predicted_class = model.predict(test_feature)[0]\n",
    "    return predicted_class"
   ]
  },
  {
   "cell_type": "code",
   "execution_count": null,
   "id": "a62c1b31-9b58-45bf-af00-1db380a8cf3f",
   "metadata": {},
   "outputs": [],
   "source": [
    "# Menguji gambar dan mendapatkan prediksi\n",
    "prediction = test_image(model, path)"
   ]
  },
  {
   "cell_type": "code",
   "execution_count": null,
   "id": "08e11a82-41b1-4cd2-83b8-76e3e8faf34d",
   "metadata": {},
   "outputs": [],
   "source": [
    "# Menampilkan hasil prediksi\n",
    "print(f\"Image: {os.path.basename(path)}\")\n",
    "# print(f\"True Label: {true_label}\")\n",
    "print(f\"Predicted Class: {predicted_class}\")"
   ]
  },
  {
   "cell_type": "code",
   "execution_count": null,
   "id": "25a1a301-056f-464b-82dd-1e5e1c855942",
   "metadata": {},
   "outputs": [],
   "source": [
    "prediction_name_words = []\n",
    "for char in prediction:\n",
    "    if char in ('_', ' ', '-'):  # Check for both underscore and space\n",
    "        # If the character is a separator, add a new word\n",
    "        prediction_name_words.append('')\n",
    "    else:\n",
    "        # If the character is not a separator, append it to the current word\n",
    "        if prediction_name_words:  # Check if any words have been added yet\n",
    "            prediction_name_words[-1] += char\n",
    "        else:\n",
    "            prediction_name_words.append(char)\n",
    "print(prediction_name_words)"
   ]
  },
  {
   "cell_type": "code",
   "execution_count": null,
   "id": "e204e378-8b69-4cd7-8ba1-20375c2bfb9b",
   "metadata": {},
   "outputs": [],
   "source": [
    "image_name_words = []\n",
    "for char in img_name:\n",
    "    if char in ('_', ' ', '-'):  # Check for both underscore and space\n",
    "        # If the character is a separator, add a new word\n",
    "        image_name_words.append('')\n",
    "    else:\n",
    "        # If the character is not a separator, append it to the current word\n",
    "        if image_name_words:  # Check if any words have been added yet\n",
    "            image_name_words[-1] += char\n",
    "        else:\n",
    "            image_name_words.append(char)\n",
    "print(image_name_words)"
   ]
  },
  {
   "cell_type": "code",
   "execution_count": null,
   "id": "44582505-bb7b-47e5-995d-54ab30e674eb",
   "metadata": {},
   "outputs": [],
   "source": [
    "def any_keyword_present(image_name_words, prediction_words):\n",
    "  # Ubah kedua list menjadi huruf kecil agar cocok tanpa memperhatikan huruf besar/kecil\n",
    "  image_name_words = [word.lower() for word in image_name_words]\n",
    "  prediction_words = [word.lower() for word in prediction_words]\n",
    "\n",
    "  # Periksa apakah ada kata dalam prediction_words yang ada dalam image_name_words\n",
    "  return any(word in image_name_words for word in prediction_words)"
   ]
  },
  {
   "cell_type": "code",
   "execution_count": null,
   "id": "a225c7ea-d255-4e08-86db-88df126bbe3d",
   "metadata": {},
   "outputs": [],
   "source": [
    "is_present = any_keyword_present(image_name_words, prediction_name_words)\n",
    "accuracy = float(is_present)"
   ]
  },
  {
   "cell_type": "code",
   "execution_count": null,
   "id": "a54198e4-6c2b-414d-9477-efc19ce15f2f",
   "metadata": {},
   "outputs": [],
   "source": [
    "# Menghitung dan menampilkan akurasi untuk gambar ini\n",
    "print(f\"Accuracy for this image: {accuracy * 100:.2f}%\")"
   ]
  },
  {
   "cell_type": "code",
   "execution_count": null,
   "id": "6e1d42e6-c590-4620-a3c9-dd357d44b441",
   "metadata": {},
   "outputs": [],
   "source": [
    "# Menampilkan gambar\n",
    "img = cv2.imread(path)\n",
    "img = cv2.cvtColor(img, cv2.COLOR_BGR2RGB)\n",
    "plt.imshow(img)\n",
    "plt.title(f\"Test Image: {os.path.basename(path)}\\nTrue Label: {true_label}\\nPredicted Class: {predicted_class}\\nAccuracy: {accuracy * 100:.2f}%\")\n",
    "plt.show()"
   ]
  }
 ],
 "metadata": {
  "kernelspec": {
   "display_name": "Python 3 (ipykernel)",
   "language": "python",
   "name": "python3"
  },
  "language_info": {
   "codemirror_mode": {
    "name": "ipython",
    "version": 3
   },
   "file_extension": ".py",
   "mimetype": "text/x-python",
   "name": "python",
   "nbconvert_exporter": "python",
   "pygments_lexer": "ipython3",
   "version": "3.11.5"
  }
 },
 "nbformat": 4,
 "nbformat_minor": 5
}
