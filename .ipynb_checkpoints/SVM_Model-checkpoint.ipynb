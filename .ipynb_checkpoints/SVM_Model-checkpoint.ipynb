{
 "cells": [
  {
   "cell_type": "markdown",
   "id": "03eb55f0-ce5d-43f3-9d88-e7f682cb054f",
   "metadata": {},
   "source": [
    "# SVM Classifier (Color Extraction)"
   ]
  },
  {
   "cell_type": "markdown",
   "id": "d94c73f7-749e-4232-b2d7-803ed2734140",
   "metadata": {},
   "source": [
    "## Initiation"
   ]
  },
  {
   "cell_type": "code",
   "execution_count": 2,
   "id": "e54d689c-cd85-4107-ad35-55eb38457bfd",
   "metadata": {},
   "outputs": [],
   "source": [
    "import os\n",
    "import cv2\n",
    "import imutils\n",
    "import pickle\n",
    "import numpy as np\n",
    "import pandas as pd\n",
    "import matplotlib.pyplot as plt\n",
    "import sklearn.model_selection as model_selection"
   ]
  },
  {
   "cell_type": "code",
   "execution_count": 3,
   "id": "64a36d5d-c358-4d8b-9073-87140aaa1485",
   "metadata": {},
   "outputs": [],
   "source": [
    "from sklearn import svm, datasets\n",
    "from sklearn.metrics import accuracy_score\n",
    "from sklearn.metrics import f1_score\n",
    "from sklearn.model_selection import train_test_split\n",
    "from sklearn.model_selection import GridSearchCV\n",
    "from sklearn.pipeline import make_pipeline"
   ]
  },
  {
   "cell_type": "code",
   "execution_count": 4,
   "id": "f074ade5-15fd-4c39-9e6c-a790aed7632b",
   "metadata": {},
   "outputs": [],
   "source": [
    "# Testing train data\n",
    "datadir= r\"C:\\Users\\SMSK_Narinda\\Desktop\\Research\\data_split_augmented\\test\""
   ]
  },
  {
   "cell_type": "code",
   "execution_count": 5,
   "id": "27d9b872-ce54-415e-b0ef-523dc00ba41a",
   "metadata": {},
   "outputs": [],
   "source": [
    "Categories=[]\n",
    "img_size = 100"
   ]
  },
  {
   "cell_type": "code",
   "execution_count": 6,
   "id": "2316ae24-19f0-4294-8060-479023f13929",
   "metadata": {},
   "outputs": [],
   "source": [
    "subfolders= [os.path.join(datadir, d) for d in os.listdir(datadir) if os.path.isdir(os.path.join(datadir, d))]"
   ]
  },
  {
   "cell_type": "code",
   "execution_count": 7,
   "id": "dfbb0ccc-05b8-4ab3-a2eb-3af932dd9608",
   "metadata": {},
   "outputs": [],
   "source": [
    "for label in os.listdir(datadir):\n",
    "    Categories.append(label)\n",
    "\n",
    "label_to_index = {category_name: index for index, category_name in enumerate(Categories)}"
   ]
  },
  {
   "cell_type": "markdown",
   "id": "0a3125f4-1a1c-4fe8-af3e-37b6505b606f",
   "metadata": {},
   "source": [
    "## Preprocessing"
   ]
  },
  {
   "cell_type": "code",
   "execution_count": 8,
   "id": "32639b75-c735-4c37-ab10-e672799d3678",
   "metadata": {},
   "outputs": [],
   "source": [
    "flat_data_arr=[]\n",
    "target_arr=[]"
   ]
  },
  {
   "cell_type": "code",
   "execution_count": 9,
   "id": "c18994ea-302b-4df9-8e25-34c32f0967d8",
   "metadata": {},
   "outputs": [
    {
     "name": "stdout",
     "output_type": "stream",
     "text": [
      "[INFO] ITERATION 1\n",
      "Processing for label Acne_and_Rosacea_Photos\n",
      "Processing for label Actinic_Keratosis_Basal_Cell_Carcinoma_and_other_Malignant_Lesions\n",
      "Processing for label Atopic_Dermatitis_Photos\n",
      "Processing for label Bullous_Disease_Photos\n",
      "Processing for label Cellulitis_Impetigo_and_other_Bacterial_Infections\n",
      "Processing for label Eczema_Photos\n",
      "Processing for label Exanthems_and_Drug_Eruptions\n",
      "Processing for label Hair_Loss_Photos_Alopecia_and_other _Hair_Diseases\n",
      "Processing for label Herpes_HPV_other_STDs_Photos\n",
      "Processing for label Light_Diseases_and_Disorders_of_Pigmentation\n",
      "Processing for label Lupus_and_other_Connective_Tissue_diseases\n",
      "Processing for label Melanoma_Skin_Cancer_Nevi_and_Moles\n",
      "Processing for label Nail_Fungus_and_other_Nail_Disease\n",
      "Processing for label Poison_Ivy_Photos_and_other_Contact_Dermatitis\n",
      "Processing for label Psoriasis_pictures_Lichen_Planus_and_related_diseases\n",
      "Processing for label Scabies_Lyme_Disease_and_other_Infestations_and_Bites\n",
      "Processing for label Seborrheic_Keratoses_and_other_Benign_Tumors\n",
      "Processing for label Systemic_Disease\n",
      "Processing for label Tinea_Ringworm_Candidiasis_and_other_Fungal_Infections\n",
      "Processing for label Urticaria_Hives\n",
      "Processing for label Vascular_Tumors\n",
      "Processing for label Vasculitis_Photos\n",
      "Processing for label Warts_Molluscum_and_other_Viral_Infections\n",
      "[STOP] \n",
      "\n"
     ]
    }
   ],
   "source": [
    "for i in range (1,2):\n",
    "    print(\"[INFO] ITERATION\", i)\n",
    "    for classes in subfolders:\n",
    "        # Get the label (category name) from the subfolder\n",
    "        label = classes.split(os.path.sep)[-1]\n",
    "        print(\"Processing for label \" + label)\n",
    "        # Iterate over the images in the current subfolder        \n",
    "        for filename in os.scandir(classes):\n",
    "            if filename.is_file():\n",
    "                # Get the path of the image file\n",
    "                image_path = filename.path\n",
    "                \n",
    "                # Read and resize the image\n",
    "                image = cv2.imread(image_path)\n",
    "                image = cv2.resize(image, (150, 150))\n",
    "                \n",
    "                # Append the flattened image data and numerical label to their respective lists\n",
    "                flat_data_arr.append(image.flatten())\n",
    "                target_arr.append(label_to_index[label])\n",
    "    \n",
    "    print(\"[STOP] \\n\")"
   ]
  },
  {
   "cell_type": "code",
   "execution_count": 11,
   "id": "e0e3bb85-c9e3-4adc-955d-1f2b643a65cb",
   "metadata": {},
   "outputs": [
    {
     "name": "stdout",
     "output_type": "stream",
     "text": [
      "[INFO] Processed 7488/23\n"
     ]
    }
   ],
   "source": [
    "print(\"[INFO] Processed {}/{}\".format(len(target_arr), len(subfolders)))"
   ]
  },
  {
   "cell_type": "code",
   "execution_count": 12,
   "id": "3e1b7470-dd7a-4ae7-b08e-c8f05d2c231a",
   "metadata": {},
   "outputs": [],
   "source": [
    "flat_data=np.array(flat_data_arr)\n",
    "target=np.array(target_arr)"
   ]
  },
  {
   "cell_type": "code",
   "execution_count": 13,
   "id": "ea6fe6c5-0fcd-4c9b-af9b-e47a2fbb8b4e",
   "metadata": {},
   "outputs": [
    {
     "name": "stdout",
     "output_type": "stream",
     "text": [
      "[INFO] flat_data matrix: 493.59 MB\n",
      "[INFO] target matrix: 0.03 MB\n",
      "flat_data shape  (7488, 67500)\n",
      "target shape  (7488,)\n"
     ]
    }
   ],
   "source": [
    "print(\"[INFO] flat_data matrix: {:.2f} MB\".format(\n",
    "\tflat_data.nbytes / (1024 * 1000.0)))\n",
    "print(\"[INFO] target matrix: {:.2f} MB\".format(\n",
    "\ttarget.nbytes / (1024 * 1000.0)))\n",
    "print(\"flat_data shape \", flat_data.shape)\n",
    "print(\"target shape \", target.shape)"
   ]
  },
  {
   "cell_type": "code",
   "execution_count": 14,
   "id": "ed8ec8c9-9c44-4fa2-9efa-56aadcf01b05",
   "metadata": {},
   "outputs": [],
   "source": [
    "df=pd.DataFrame(flat_data)"
   ]
  },
  {
   "cell_type": "code",
   "execution_count": 15,
   "id": "8a35ea1d-3717-40dd-81b7-91d8b120bbff",
   "metadata": {},
   "outputs": [],
   "source": [
    "df['Target']=target"
   ]
  },
  {
   "cell_type": "code",
   "execution_count": 16,
   "id": "4d3dabcb-d02e-418b-a54a-4fa421157836",
   "metadata": {},
   "outputs": [],
   "source": [
    "x=df.iloc[:,:-1]\n",
    "y=df.iloc[:,-1]"
   ]
  },
  {
   "cell_type": "code",
   "execution_count": 17,
   "id": "812c4dc3-fb42-4f35-a5ae-b0cd632a012a",
   "metadata": {},
   "outputs": [
    {
     "name": "stdout",
     "output_type": "stream",
     "text": [
      "[INFO] x shape  (7488, 67500)\n",
      "[INFO] y shape  (7488,)\n"
     ]
    }
   ],
   "source": [
    "print(\"[INFO] x shape \", x.shape)\n",
    "print(\"[INFO] y shape \", y.shape)"
   ]
  },
  {
   "cell_type": "code",
   "execution_count": 18,
   "id": "5142c4b3-24a2-4dd1-a20e-f16a635a36dd",
   "metadata": {},
   "outputs": [
    {
     "name": "stdout",
     "output_type": "stream",
     "text": [
      "Splitted Successfully\n"
     ]
    }
   ],
   "source": [
    "x_train, x_test, y_train, y_test = train_test_split(\n",
    "    x, y,test_size=0.30,random_state=42,stratify=y)\n",
    "\n",
    "print('Splitted Successfully')"
   ]
  },
  {
   "cell_type": "markdown",
   "id": "2b55da3b-eedc-491c-832c-2d1f5c32f9a6",
   "metadata": {},
   "source": [
    "## Training Model"
   ]
  },
  {
   "cell_type": "code",
   "execution_count": null,
   "id": "d3ab4af6-a1a7-46e6-adbe-02c76db817e4",
   "metadata": {},
   "outputs": [
    {
     "name": "stdout",
     "output_type": "stream",
     "text": [
      "[START] SVM Classifier start training the model\n"
     ]
    }
   ],
   "source": [
    "print(\"[START] SVM Classifier start training the model\")\n",
    "\n",
    "# Define SVM model\n",
    "parameters = {'kernel':('linear', 'rbf'), 'C':[1, 10]}\n",
    "svc = svm.SVC()\n",
    "clf = GridSearchCV(svc, parameters)\n",
    "model = clf.fit(x_train, y_train)\n",
    "\n",
    "print('[STOP]')"
   ]
  },
  {
   "cell_type": "markdown",
   "id": "9971204a-efbd-4e90-b03e-a76f54661765",
   "metadata": {},
   "source": [
    "## Evaluating Model; Model Summary"
   ]
  },
  {
   "cell_type": "code",
   "execution_count": null,
   "id": "58e8ef8e-5a39-46e6-9911-508f302fa988",
   "metadata": {},
   "outputs": [],
   "source": [
    "prediction = clf.predict(x_test)"
   ]
  },
  {
   "cell_type": "code",
   "execution_count": null,
   "id": "e6fc3524-553b-4c4a-9525-86b3f9d79288",
   "metadata": {},
   "outputs": [],
   "source": [
    "acc = accuracy_score(y_test, prediction)\n",
    "\n",
    "print(\"[SUMMARY]\")\n",
    "print(model)\n",
    "print(\"Model accuracy : {:.2f}%\".format(acc * 100))"
   ]
  },
  {
   "cell_type": "code",
   "execution_count": null,
   "id": "a74a452e-da11-454d-972a-2cea9da4ee7a",
   "metadata": {},
   "outputs": [],
   "source": [
    "# Cross Validation for model\n",
    "scores = cross_val_score(\n",
    "    model, trainFeat, trainLabels, \n",
    "    cv=5, scoring='accuracy')\n",
    "\n",
    "print(\"[INFO] Cross Validation Model Score : %0.2f (+/- %0.2f)\" \n",
    "      % (scores.mean()*100, scores.std()*2))\n",
    "print(\"[RESULT] Score mean: \", scores.mean()*100, '%')"
   ]
  },
  {
   "cell_type": "code",
   "execution_count": null,
   "id": "73be10b9-b4aa-40f0-aa5e-d066881f9334",
   "metadata": {},
   "outputs": [],
   "source": [
    "# Additional statistic report of the model\n",
    "# Source report :\n",
    "# https://www.datasklr.com/select-classification-methods/k-nearest-neighbors\n",
    "\n",
    "# Reshape the arrays\n",
    "testLabels_encoded = testLabels_encoded.reshape(-1, 1)\n",
    "prediction_encoded = prediction_encoded.reshape(-1, 1)\n",
    "\n",
    "# Now you can use the reshaped arrays with sklearn metrics functions\n",
    "print('Average Precision : ', metrics.average_precision_score(testLabels_encoded, prediction_encoded)*100, '%') \n",
    "print('F1 Score : ', metrics.f1_score(testLabels_encoded, prediction_encoded, average='weighted')*100, '%')\n",
    "print('Precision : ', metrics.precision_score(testLabels_encoded, prediction_encoded, average='weighted')*100, '%')\n",
    "print('Recall : ', metrics.recall_score(testLabels_encoded, prediction_encoded, average='weighted')*100, '%')"
   ]
  },
  {
   "cell_type": "markdown",
   "id": "9e1fe9e3-ed6b-4940-8d77-bcd03051edce",
   "metadata": {},
   "source": [
    "## Classification Report"
   ]
  },
  {
   "cell_type": "code",
   "execution_count": null,
   "id": "0e1721ec-43e0-4885-a945-886e2d1b3dd8",
   "metadata": {},
   "outputs": [],
   "source": [
    "# Describe unique classes in dataset\n",
    "classes = []\n",
    "for unique_class in subfolders:\n",
    "    # Get label from the subfolder name \n",
    "    label = unique_class.split(os.path.sep)[-1]\n",
    "    classes.append(label)\n",
    "\n",
    "# Describe classification report\n",
    "print(classification_report(testLabels, prediction, target_names=classes))"
   ]
  },
  {
   "cell_type": "markdown",
   "id": "46809712-c23f-44e3-a81a-21c0a9d8f710",
   "metadata": {},
   "source": [
    "## Confussion Matrix"
   ]
  },
  {
   "cell_type": "code",
   "execution_count": null,
   "id": "5e9a4351-e810-47cf-8b0a-05d7b16c9bf8",
   "metadata": {},
   "outputs": [],
   "source": [
    "cf_matrix = confusion_matrix(testLabels, prediction)"
   ]
  },
  {
   "cell_type": "code",
   "execution_count": null,
   "id": "74c351e0-7320-442e-a6f7-7546d1cb128c",
   "metadata": {},
   "outputs": [],
   "source": [
    "plt.figure(figsize=(10, 7))\n",
    "sns.heatmap(cf_matrix, annot=True, fmt=\"d\", cmap=\"Blues\")\n",
    "plt.title(\"Confusion Matrix\")\n",
    "plt.xlabel(\"Predicted\")\n",
    "plt.ylabel(\"True\")\n",
    "plt.show()"
   ]
  },
  {
   "cell_type": "markdown",
   "id": "0789e49e-2202-4262-9acb-daa580637e28",
   "metadata": {},
   "source": [
    "## Save Model"
   ]
  },
  {
   "cell_type": "code",
   "execution_count": null,
   "id": "2c6c008e-0ad9-4f39-a2df-2506c30896dc",
   "metadata": {},
   "outputs": [],
   "source": [
    "pickle.dump(model,open('KNNClassifier.p','wb'))\n",
    "print(\"[INFO] Model is saved successfully\")"
   ]
  },
  {
   "cell_type": "markdown",
   "id": "e3b3f515-578f-47df-9b35-f662ca38a48e",
   "metadata": {},
   "source": [
    "## Testing Model"
   ]
  },
  {
   "cell_type": "markdown",
   "id": "cdabefee-7081-487f-93b1-311aaaa5a683",
   "metadata": {},
   "source": [
    "C:\\Users\\SMSK_Narinda\\Downloads\\melanoma.jpg\r\n",
    "Source contoh gambar : \"C:\\Users\\SMSK_Narinda\\Downloads\\089056200_1612266979-Melanoma.jpg\"\n",
    "\r\n",
    "https://www.klikdokter.com/info-sehat/kanker/perbedaan-kanker-kulit-melanoma-dan-karsinoma"
   ]
  },
  {
   "cell_type": "code",
   "execution_count": null,
   "id": "59fcea64-afae-4c90-8f97-2355b86aa199",
   "metadata": {},
   "outputs": [],
   "source": [
    "# Load model\n",
    "model = pickle.load(open('C:\\\\Users\\\\SMSK_Narinda\\\\Desktop\\\\Skripsi_Checkpoint_KNN_SVM_Dermnet\\\\Model\\\\KNNClassifier.p', 'rb'))\n",
    "print(\"[INFO] Model loaded successfully\")"
   ]
  },
  {
   "cell_type": "code",
   "execution_count": null,
   "id": "8340815f-17bd-4036-88b4-a57162127395",
   "metadata": {},
   "outputs": [],
   "source": [
    "# Input example image\n",
    "path = input('Enter URL of Image')\n",
    "\n",
    "# Mendapatkan label dari nama subfolder\n",
    "img_name = os.path.splitext(os.path.basename(path))[0]\n",
    "print(img_name)"
   ]
  },
  {
   "cell_type": "code",
   "execution_count": null,
   "id": "cc88dfe1-795f-4884-8739-dde251a08cbb",
   "metadata": {},
   "outputs": [],
   "source": [
    "# Preprocessing SVM\n",
    "def transform_labels(labels):\n",
    "    label_mapping = {label: idx for idx, label in enumerate(np.unique(labels))}\n",
    "    return np.array([label_mapping[label] for label in labels]), label_mapping\n",
    "\n",
    "def inverse_transform_labels(predictions, label_mapping):\n",
    "    inverse_mapping = {v: k for k, v in label_mapping.items()}\n",
    "    transformed_labels = []\n",
    "    for pred in predictions:\n",
    "        rounded_pred = int(round(pred))\n",
    "        if rounded_pred in inverse_mapping:\n",
    "            transformed_labels.append(inverse_mapping[rounded_pred])\n",
    "        else:\n",
    "            print(f\"Unexpected prediction value: {rounded_pred}\")\n",
    "            transformed_labels.append(\"Unknown\")  # Or handle it appropriately\n",
    "    return np.array(transformed_labels)"
   ]
  },
  {
   "cell_type": "code",
   "execution_count": null,
   "id": "d82f076f-3317-44a5-87ad-86919d9337dd",
   "metadata": {},
   "outputs": [],
   "source": [
    "# Transformasi label\n",
    "labels_train_transformed, label_mapping = transform_labels(Categories)"
   ]
  },
  {
   "cell_type": "code",
   "execution_count": null,
   "id": "a79b6ca2-4882-45ce-914c-73204b041b38",
   "metadata": {},
   "outputs": [],
   "source": [
    "print(\"Predictions:\", predictions)\n",
    "print(\"Label Mapping:\", label_mapping)"
   ]
  },
  {
   "cell_type": "code",
   "execution_count": null,
   "id": "da4bb13d-b6f6-4d9e-9c32-9b7fa8f54ff8",
   "metadata": {},
   "outputs": [],
   "source": [
    "# Read image from image_path \n",
    "image = cv2.imread(path)\n",
    "\n",
    "# Resize image to the desired size\n",
    "image = cv2.resize(image, (150, 150))\n",
    "image = image.flatten()\n",
    "image = np.array(image)"
   ]
  },
  {
   "cell_type": "code",
   "execution_count": null,
   "id": "9231ad92-c0bc-4751-9864-05ef0988f90d",
   "metadata": {},
   "outputs": [],
   "source": [
    "# Perform prediction\n",
    "predictions = model.predict([image])\n",
    "predicted_labels = inverse_transform_labels(predictions, label_mapping)"
   ]
  },
  {
   "cell_type": "code",
   "execution_count": null,
   "id": "895405b8-1a11-4ace-be53-f8d73a4f99a5",
   "metadata": {},
   "outputs": [],
   "source": [
    "# Menampilkan hasil prediksi\n",
    "print(f\"Image: {os.path.basename(path)}\")\n",
    "# print(f\"True Label: {true_label}\")\n",
    "print(f\"Predicted Class: {predicted_labels}\")"
   ]
  },
  {
   "cell_type": "code",
   "execution_count": null,
   "id": "fdae50ed-9f58-4162-a78a-0cf139ebf6d2",
   "metadata": {},
   "outputs": [],
   "source": [
    "prediction_name_words = []\n",
    "for char in predicted_labels:\n",
    "    if char in ('_', ' ', '-'):  # Check for both underscore and space\n",
    "        # If the character is a separator, add a new word\n",
    "        prediction_name_words.append('')\n",
    "    else:\n",
    "        # If the character is not a separator, append it to the current word\n",
    "        if prediction_name_words:  # Check if any words have been added yet\n",
    "            prediction_name_words[-1] += char\n",
    "        else:\n",
    "            prediction_name_words.append(char)\n",
    "print(prediction_name_words)"
   ]
  },
  {
   "cell_type": "code",
   "execution_count": null,
   "id": "b4f2e9bb-7b01-49bc-817f-bf5b535eeb11",
   "metadata": {},
   "outputs": [],
   "source": [
    "image_name_words = []\n",
    "for char in img_name:\n",
    "    if char in ('_', ' ', '-'):  # Check for both underscore and space\n",
    "        # If the character is a separator, add a new word\n",
    "        image_name_words.append('')\n",
    "    else:\n",
    "        # If the character is not a separator, append it to the current word\n",
    "        if image_name_words:  # Check if any words have been added yet\n",
    "            image_name_words[-1] += char\n",
    "        else:\n",
    "            image_name_words.append(char)\n",
    "print(image_name_words)"
   ]
  },
  {
   "cell_type": "code",
   "execution_count": null,
   "id": "5d520df3-478e-4fc4-a832-fde4f492d7c2",
   "metadata": {},
   "outputs": [],
   "source": [
    "def any_keyword_present(image_name_words, prediction_words):\n",
    "  # Ubah kedua list menjadi huruf kecil agar cocok tanpa memperhatikan huruf besar/kecil\n",
    "  image_name_words = [word.lower() for word in image_name_words]\n",
    "  prediction_words = [word.lower() for word in prediction_words]\n",
    "\n",
    "  # Periksa apakah ada kata dalam prediction_words yang ada dalam image_name_words\n",
    "  return any(word in image_name_words for word in prediction_words)"
   ]
  },
  {
   "cell_type": "code",
   "execution_count": null,
   "id": "3dc67585-d215-47cf-b4ab-5cdb68cd77cd",
   "metadata": {},
   "outputs": [],
   "source": [
    "is_present = any_keyword_present(image_name_words, prediction_name_words)\n",
    "accuracy = float(is_present)"
   ]
  },
  {
   "cell_type": "code",
   "execution_count": null,
   "id": "1c32b722-f26d-488e-ac00-19dbc2884f23",
   "metadata": {},
   "outputs": [],
   "source": [
    "# Menghitung dan menampilkan akurasi untuk gambar ini\n",
    "print(f\"Accuracy for this image: {accuracy * 100:.2f}%\")"
   ]
  },
  {
   "cell_type": "code",
   "execution_count": null,
   "id": "aa02a730-4d63-44ef-9512-1d57d4dd55d0",
   "metadata": {},
   "outputs": [],
   "source": [
    "# Menampilkan gambar\n",
    "img = cv2.imread(path)\n",
    "img = cv2.cvtColor(img, cv2.COLOR_BGR2RGB)\n",
    "plt.imshow(img)\n",
    "plt.title(f\"Test Image: {os.path.basename(path)}\\nTrue Label: {true_label}\\nPredicted Class: {predicted_class}\\nAccuracy: {accuracy * 100:.2f}%\")\n",
    "plt.show()"
   ]
  }
 ],
 "metadata": {
  "kernelspec": {
   "display_name": "Python 3 (ipykernel)",
   "language": "python",
   "name": "python3"
  },
  "language_info": {
   "codemirror_mode": {
    "name": "ipython",
    "version": 3
   },
   "file_extension": ".py",
   "mimetype": "text/x-python",
   "name": "python",
   "nbconvert_exporter": "python",
   "pygments_lexer": "ipython3",
   "version": "3.11.5"
  }
 },
 "nbformat": 4,
 "nbformat_minor": 5
}
