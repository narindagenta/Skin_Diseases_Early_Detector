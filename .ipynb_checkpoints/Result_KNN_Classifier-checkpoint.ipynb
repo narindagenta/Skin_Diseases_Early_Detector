{
 "cells": [
  {
   "cell_type": "markdown",
   "metadata": {
    "id": "bVcMjDpvzjh2"
   },
   "source": [
    "## Initialization"
   ]
  },
  {
   "cell_type": "code",
   "execution_count": 1,
   "metadata": {
    "id": "ialmvvEBzjTu"
   },
   "outputs": [],
   "source": [
    "import os\n",
    "import cv2\n",
    "import glob\n",
    "import imutils\n",
    "import argparse\n",
    "import numpy as np\n",
    "import pandas as pd\n",
    "import plotly.express as px\n",
    "import matplotlib.pyplot as plt\n",
    "import splitfolders"
   ]
  },
  {
   "cell_type": "code",
   "execution_count": 2,
   "metadata": {
    "id": "sU1zV3zVJIGW"
   },
   "outputs": [],
   "source": [
    "from sklearn.neighbors import KNeighborsClassifier\n",
    "from sklearn.preprocessing import LabelEncoder\n",
    "from sklearn.model_selection import train_test_split\n",
    "from sklearn.utils import shuffle\n",
    "from sklearn import preprocessing\n",
    "from sklearn.model_selection import cross_val_score\n",
    "from skimage.feature import hog"
   ]
  },
  {
   "cell_type": "code",
   "execution_count": 3,
   "metadata": {
    "id": "CumS5NOZKLYo"
   },
   "outputs": [],
   "source": [
    "data_path = r\"C:\\\\Users\\SMSK_Narinda\\Desktop\\Research\\dataset\"\n",
    "img_size = 128\n",
    "num_classes = 23\n",
    "EPOCHS = 20\n",
    "BATCH_SIZE = 64"
   ]
  },
  {
   "cell_type": "code",
   "execution_count": 4,
   "metadata": {},
   "outputs": [
    {
     "name": "stdout",
     "output_type": "stream",
     "text": [
      "c:\\\\users\\smsk_narinda\\desktop\\research\\dataset\\acne and rosacea photos\n",
      "c:\\\\users\\smsk_narinda\\desktop\\research\\dataset\\actinic keratosis basal cell carcinoma and other malignant lesions\n",
      "c:\\\\users\\smsk_narinda\\desktop\\research\\dataset\\atopic dermatitis photos\n",
      "c:\\\\users\\smsk_narinda\\desktop\\research\\dataset\\bullous disease photos\n",
      "c:\\\\users\\smsk_narinda\\desktop\\research\\dataset\\cellulitis impetigo and other bacterial infections\n",
      "c:\\\\users\\smsk_narinda\\desktop\\research\\dataset\\eczema photos\n",
      "c:\\\\users\\smsk_narinda\\desktop\\research\\dataset\\exanthems and drug eruptions\n",
      "c:\\\\users\\smsk_narinda\\desktop\\research\\dataset\\hair loss photos alopecia and other hair diseases\n",
      "c:\\\\users\\smsk_narinda\\desktop\\research\\dataset\\herpes hpv and other stds photos\n",
      "c:\\\\users\\smsk_narinda\\desktop\\research\\dataset\\light diseases and disorders of pigmentation\n",
      "c:\\\\users\\smsk_narinda\\desktop\\research\\dataset\\lupus and other connective tissue diseases\n",
      "c:\\\\users\\smsk_narinda\\desktop\\research\\dataset\\melanoma skin cancer nevi and moles\n",
      "c:\\\\users\\smsk_narinda\\desktop\\research\\dataset\\nail fungus and other nail disease\n",
      "c:\\\\users\\smsk_narinda\\desktop\\research\\dataset\\poison ivy photos and other contact dermatitis\n",
      "c:\\\\users\\smsk_narinda\\desktop\\research\\dataset\\psoriasis pictures lichen planus and related diseases\n",
      "c:\\\\users\\smsk_narinda\\desktop\\research\\dataset\\scabies lyme disease and other infestations and bites\n",
      "c:\\\\users\\smsk_narinda\\desktop\\research\\dataset\\seborrheic keratoses and other benign tumors\n",
      "c:\\\\users\\smsk_narinda\\desktop\\research\\dataset\\systemic disease\n",
      "c:\\\\users\\smsk_narinda\\desktop\\research\\dataset\\tinea ringworm candidiasis and other fungal infections\n",
      "c:\\\\users\\smsk_narinda\\desktop\\research\\dataset\\urticaria hives\n",
      "c:\\\\users\\smsk_narinda\\desktop\\research\\dataset\\vascular tumors\n",
      "c:\\\\users\\smsk_narinda\\desktop\\research\\dataset\\vasculitis photos\n",
      "c:\\\\users\\smsk_narinda\\desktop\\research\\dataset\\warts molluscum and other viral infections\n"
     ]
    }
   ],
   "source": [
    "subfolders= [os.path.join(data_path, d) for d in os.listdir(data_path) if os.path.isdir(os.path.join(data_path, d))]\n",
    "labels = []\n",
    "\n",
    "for label in subfolders:\n",
    "    print(os.path.normcase(label))\n",
    "    labels.append(label)"
   ]
  },
  {
   "cell_type": "markdown",
   "metadata": {},
   "source": [
    "## KNN Classifier"
   ]
  },
  {
   "cell_type": "code",
   "execution_count": 5,
   "metadata": {},
   "outputs": [],
   "source": [
    "def extract_color_histogram(image, bins=(32,32,32)):\n",
    "    ###extract 3d color\n",
    "    hsv = cv2.cvtColor(image, cv2.COLOR_BGR2HSV)\n",
    "    hist = cv2.calcHist([hsv], [0,1,2], None, bins,\n",
    "                       [0, 180, 0 , 256, 0, 256])\n",
    "    \n",
    "    ### handle normalizing the historigram\n",
    "    if imutils.is_cv2():\n",
    "        hist = cv2.normalize(hist)\n",
    "    \n",
    "    else :\n",
    "        cv2.normalize(hist,hist)\n",
    "        \n",
    "    return hist.flatten()"
   ]
  },
  {
   "cell_type": "code",
   "execution_count": 6,
   "metadata": {},
   "outputs": [],
   "source": [
    "### initialize the raw pixel intensities matrix\n",
    "features = []\n",
    "labels = []"
   ]
  },
  {
   "cell_type": "code",
   "execution_count": 7,
   "metadata": {
    "editable": true,
    "scrolled": true,
    "slideshow": {
     "slide_type": ""
    },
    "tags": []
   },
   "outputs": [
    {
     "name": "stdout",
     "output_type": "stream",
     "text": [
      "[INFO] Processing for label C:\\\\Users\\SMSK_Narinda\\Desktop\\Research\\dataset\\Acne and Rosacea Photos\n",
      "[INFO] Processing for label C:\\\\Users\\SMSK_Narinda\\Desktop\\Research\\dataset\\Actinic Keratosis Basal Cell Carcinoma and other Malignant Lesions\n",
      "[INFO] Processing for label C:\\\\Users\\SMSK_Narinda\\Desktop\\Research\\dataset\\Atopic Dermatitis Photos\n",
      "[INFO] Processing for label C:\\\\Users\\SMSK_Narinda\\Desktop\\Research\\dataset\\Bullous Disease Photos\n",
      "[INFO] Processing for label C:\\\\Users\\SMSK_Narinda\\Desktop\\Research\\dataset\\Cellulitis Impetigo and other Bacterial Infections\n",
      "[INFO] Processing for label C:\\\\Users\\SMSK_Narinda\\Desktop\\Research\\dataset\\Eczema Photos\n",
      "[INFO] Processing for label C:\\\\Users\\SMSK_Narinda\\Desktop\\Research\\dataset\\Exanthems and Drug Eruptions\n",
      "[INFO] Processing for label C:\\\\Users\\SMSK_Narinda\\Desktop\\Research\\dataset\\Hair Loss Photos Alopecia and other Hair Diseases\n",
      "[INFO] Processing for label C:\\\\Users\\SMSK_Narinda\\Desktop\\Research\\dataset\\Herpes HPV and other STDs Photos\n",
      "[INFO] Processing for label C:\\\\Users\\SMSK_Narinda\\Desktop\\Research\\dataset\\Light Diseases and Disorders of Pigmentation\n",
      "[INFO] Processing for label C:\\\\Users\\SMSK_Narinda\\Desktop\\Research\\dataset\\Lupus and other Connective Tissue diseases\n",
      "[INFO] Processing for label C:\\\\Users\\SMSK_Narinda\\Desktop\\Research\\dataset\\Melanoma Skin Cancer Nevi and Moles\n",
      "[INFO] Processing for label C:\\\\Users\\SMSK_Narinda\\Desktop\\Research\\dataset\\Nail Fungus and other Nail Disease\n",
      "[INFO] Processing for label C:\\\\Users\\SMSK_Narinda\\Desktop\\Research\\dataset\\Poison Ivy Photos and other Contact Dermatitis\n",
      "[INFO] Processing for label C:\\\\Users\\SMSK_Narinda\\Desktop\\Research\\dataset\\Psoriasis pictures Lichen Planus and related diseases\n",
      "[INFO] Processing for label C:\\\\Users\\SMSK_Narinda\\Desktop\\Research\\dataset\\Scabies Lyme Disease and other Infestations and Bites\n",
      "[INFO] Processing for label C:\\\\Users\\SMSK_Narinda\\Desktop\\Research\\dataset\\Seborrheic Keratoses and other Benign Tumors\n",
      "[INFO] Processing for label C:\\\\Users\\SMSK_Narinda\\Desktop\\Research\\dataset\\Systemic Disease\n",
      "[INFO] Processing for label C:\\\\Users\\SMSK_Narinda\\Desktop\\Research\\dataset\\Tinea Ringworm Candidiasis and other Fungal Infections\n",
      "[INFO] Processing for label C:\\\\Users\\SMSK_Narinda\\Desktop\\Research\\dataset\\Urticaria Hives\n",
      "[INFO] Processing for label C:\\\\Users\\SMSK_Narinda\\Desktop\\Research\\dataset\\Vascular Tumors\n",
      "[INFO] Processing for label C:\\\\Users\\SMSK_Narinda\\Desktop\\Research\\dataset\\Vasculitis Photos\n",
      "[INFO] Processing for label C:\\\\Users\\SMSK_Narinda\\Desktop\\Research\\dataset\\Warts Molluscum and other Viral Infections\n",
      "[STOP] \n",
      "\n",
      "[INFO] Processing for label C:\\\\Users\\SMSK_Narinda\\Desktop\\Research\\dataset\\Acne and Rosacea Photos\n",
      "[INFO] Processing for label C:\\\\Users\\SMSK_Narinda\\Desktop\\Research\\dataset\\Actinic Keratosis Basal Cell Carcinoma and other Malignant Lesions\n",
      "[INFO] Processing for label C:\\\\Users\\SMSK_Narinda\\Desktop\\Research\\dataset\\Atopic Dermatitis Photos\n",
      "[INFO] Processing for label C:\\\\Users\\SMSK_Narinda\\Desktop\\Research\\dataset\\Bullous Disease Photos\n",
      "[INFO] Processing for label C:\\\\Users\\SMSK_Narinda\\Desktop\\Research\\dataset\\Cellulitis Impetigo and other Bacterial Infections\n",
      "[INFO] Processing for label C:\\\\Users\\SMSK_Narinda\\Desktop\\Research\\dataset\\Eczema Photos\n",
      "[INFO] Processing for label C:\\\\Users\\SMSK_Narinda\\Desktop\\Research\\dataset\\Exanthems and Drug Eruptions\n",
      "[INFO] Processing for label C:\\\\Users\\SMSK_Narinda\\Desktop\\Research\\dataset\\Hair Loss Photos Alopecia and other Hair Diseases\n",
      "[INFO] Processing for label C:\\\\Users\\SMSK_Narinda\\Desktop\\Research\\dataset\\Herpes HPV and other STDs Photos\n",
      "[INFO] Processing for label C:\\\\Users\\SMSK_Narinda\\Desktop\\Research\\dataset\\Light Diseases and Disorders of Pigmentation\n",
      "[INFO] Processing for label C:\\\\Users\\SMSK_Narinda\\Desktop\\Research\\dataset\\Lupus and other Connective Tissue diseases\n",
      "[INFO] Processing for label C:\\\\Users\\SMSK_Narinda\\Desktop\\Research\\dataset\\Melanoma Skin Cancer Nevi and Moles\n",
      "[INFO] Processing for label C:\\\\Users\\SMSK_Narinda\\Desktop\\Research\\dataset\\Nail Fungus and other Nail Disease\n",
      "[INFO] Processing for label C:\\\\Users\\SMSK_Narinda\\Desktop\\Research\\dataset\\Poison Ivy Photos and other Contact Dermatitis\n",
      "[INFO] Processing for label C:\\\\Users\\SMSK_Narinda\\Desktop\\Research\\dataset\\Psoriasis pictures Lichen Planus and related diseases\n",
      "[INFO] Processing for label C:\\\\Users\\SMSK_Narinda\\Desktop\\Research\\dataset\\Scabies Lyme Disease and other Infestations and Bites\n",
      "[INFO] Processing for label C:\\\\Users\\SMSK_Narinda\\Desktop\\Research\\dataset\\Seborrheic Keratoses and other Benign Tumors\n",
      "[INFO] Processing for label C:\\\\Users\\SMSK_Narinda\\Desktop\\Research\\dataset\\Systemic Disease\n",
      "[INFO] Processing for label C:\\\\Users\\SMSK_Narinda\\Desktop\\Research\\dataset\\Tinea Ringworm Candidiasis and other Fungal Infections\n",
      "[INFO] Processing for label C:\\\\Users\\SMSK_Narinda\\Desktop\\Research\\dataset\\Urticaria Hives\n",
      "[INFO] Processing for label C:\\\\Users\\SMSK_Narinda\\Desktop\\Research\\dataset\\Vascular Tumors\n",
      "[INFO] Processing for label C:\\\\Users\\SMSK_Narinda\\Desktop\\Research\\dataset\\Vasculitis Photos\n",
      "[INFO] Processing for label C:\\\\Users\\SMSK_Narinda\\Desktop\\Research\\dataset\\Warts Molluscum and other Viral Infections\n",
      "[STOP] \n",
      "\n",
      "[INFO] Processing for label C:\\\\Users\\SMSK_Narinda\\Desktop\\Research\\dataset\\Acne and Rosacea Photos\n",
      "[INFO] Processing for label C:\\\\Users\\SMSK_Narinda\\Desktop\\Research\\dataset\\Actinic Keratosis Basal Cell Carcinoma and other Malignant Lesions\n",
      "[INFO] Processing for label C:\\\\Users\\SMSK_Narinda\\Desktop\\Research\\dataset\\Atopic Dermatitis Photos\n",
      "[INFO] Processing for label C:\\\\Users\\SMSK_Narinda\\Desktop\\Research\\dataset\\Bullous Disease Photos\n",
      "[INFO] Processing for label C:\\\\Users\\SMSK_Narinda\\Desktop\\Research\\dataset\\Cellulitis Impetigo and other Bacterial Infections\n",
      "[INFO] Processing for label C:\\\\Users\\SMSK_Narinda\\Desktop\\Research\\dataset\\Eczema Photos\n",
      "[INFO] Processing for label C:\\\\Users\\SMSK_Narinda\\Desktop\\Research\\dataset\\Exanthems and Drug Eruptions\n",
      "[INFO] Processing for label C:\\\\Users\\SMSK_Narinda\\Desktop\\Research\\dataset\\Hair Loss Photos Alopecia and other Hair Diseases\n",
      "[INFO] Processing for label C:\\\\Users\\SMSK_Narinda\\Desktop\\Research\\dataset\\Herpes HPV and other STDs Photos\n",
      "[INFO] Processing for label C:\\\\Users\\SMSK_Narinda\\Desktop\\Research\\dataset\\Light Diseases and Disorders of Pigmentation\n",
      "[INFO] Processing for label C:\\\\Users\\SMSK_Narinda\\Desktop\\Research\\dataset\\Lupus and other Connective Tissue diseases\n",
      "[INFO] Processing for label C:\\\\Users\\SMSK_Narinda\\Desktop\\Research\\dataset\\Melanoma Skin Cancer Nevi and Moles\n",
      "[INFO] Processing for label C:\\\\Users\\SMSK_Narinda\\Desktop\\Research\\dataset\\Nail Fungus and other Nail Disease\n",
      "[INFO] Processing for label C:\\\\Users\\SMSK_Narinda\\Desktop\\Research\\dataset\\Poison Ivy Photos and other Contact Dermatitis\n",
      "[INFO] Processing for label C:\\\\Users\\SMSK_Narinda\\Desktop\\Research\\dataset\\Psoriasis pictures Lichen Planus and related diseases\n",
      "[INFO] Processing for label C:\\\\Users\\SMSK_Narinda\\Desktop\\Research\\dataset\\Scabies Lyme Disease and other Infestations and Bites\n",
      "[INFO] Processing for label C:\\\\Users\\SMSK_Narinda\\Desktop\\Research\\dataset\\Seborrheic Keratoses and other Benign Tumors\n",
      "[INFO] Processing for label C:\\\\Users\\SMSK_Narinda\\Desktop\\Research\\dataset\\Systemic Disease\n",
      "[INFO] Processing for label C:\\\\Users\\SMSK_Narinda\\Desktop\\Research\\dataset\\Tinea Ringworm Candidiasis and other Fungal Infections\n",
      "[INFO] Processing for label C:\\\\Users\\SMSK_Narinda\\Desktop\\Research\\dataset\\Urticaria Hives\n",
      "[INFO] Processing for label C:\\\\Users\\SMSK_Narinda\\Desktop\\Research\\dataset\\Vascular Tumors\n",
      "[INFO] Processing for label C:\\\\Users\\SMSK_Narinda\\Desktop\\Research\\dataset\\Vasculitis Photos\n",
      "[INFO] Processing for label C:\\\\Users\\SMSK_Narinda\\Desktop\\Research\\dataset\\Warts Molluscum and other Viral Infections\n",
      "[STOP] \n",
      "\n",
      "[INFO] Processing for label C:\\\\Users\\SMSK_Narinda\\Desktop\\Research\\dataset\\Acne and Rosacea Photos\n",
      "[INFO] Processing for label C:\\\\Users\\SMSK_Narinda\\Desktop\\Research\\dataset\\Actinic Keratosis Basal Cell Carcinoma and other Malignant Lesions\n",
      "[INFO] Processing for label C:\\\\Users\\SMSK_Narinda\\Desktop\\Research\\dataset\\Atopic Dermatitis Photos\n",
      "[INFO] Processing for label C:\\\\Users\\SMSK_Narinda\\Desktop\\Research\\dataset\\Bullous Disease Photos\n",
      "[INFO] Processing for label C:\\\\Users\\SMSK_Narinda\\Desktop\\Research\\dataset\\Cellulitis Impetigo and other Bacterial Infections\n",
      "[INFO] Processing for label C:\\\\Users\\SMSK_Narinda\\Desktop\\Research\\dataset\\Eczema Photos\n",
      "[INFO] Processing for label C:\\\\Users\\SMSK_Narinda\\Desktop\\Research\\dataset\\Exanthems and Drug Eruptions\n",
      "[INFO] Processing for label C:\\\\Users\\SMSK_Narinda\\Desktop\\Research\\dataset\\Hair Loss Photos Alopecia and other Hair Diseases\n",
      "[INFO] Processing for label C:\\\\Users\\SMSK_Narinda\\Desktop\\Research\\dataset\\Herpes HPV and other STDs Photos\n",
      "[INFO] Processing for label C:\\\\Users\\SMSK_Narinda\\Desktop\\Research\\dataset\\Light Diseases and Disorders of Pigmentation\n",
      "[INFO] Processing for label C:\\\\Users\\SMSK_Narinda\\Desktop\\Research\\dataset\\Lupus and other Connective Tissue diseases\n",
      "[INFO] Processing for label C:\\\\Users\\SMSK_Narinda\\Desktop\\Research\\dataset\\Melanoma Skin Cancer Nevi and Moles\n",
      "[INFO] Processing for label C:\\\\Users\\SMSK_Narinda\\Desktop\\Research\\dataset\\Nail Fungus and other Nail Disease\n",
      "[INFO] Processing for label C:\\\\Users\\SMSK_Narinda\\Desktop\\Research\\dataset\\Poison Ivy Photos and other Contact Dermatitis\n",
      "[INFO] Processing for label C:\\\\Users\\SMSK_Narinda\\Desktop\\Research\\dataset\\Psoriasis pictures Lichen Planus and related diseases\n",
      "[INFO] Processing for label C:\\\\Users\\SMSK_Narinda\\Desktop\\Research\\dataset\\Scabies Lyme Disease and other Infestations and Bites\n",
      "[INFO] Processing for label C:\\\\Users\\SMSK_Narinda\\Desktop\\Research\\dataset\\Seborrheic Keratoses and other Benign Tumors\n",
      "[INFO] Processing for label C:\\\\Users\\SMSK_Narinda\\Desktop\\Research\\dataset\\Systemic Disease\n",
      "[INFO] Processing for label C:\\\\Users\\SMSK_Narinda\\Desktop\\Research\\dataset\\Tinea Ringworm Candidiasis and other Fungal Infections\n",
      "[INFO] Processing for label C:\\\\Users\\SMSK_Narinda\\Desktop\\Research\\dataset\\Urticaria Hives\n",
      "[INFO] Processing for label C:\\\\Users\\SMSK_Narinda\\Desktop\\Research\\dataset\\Vascular Tumors\n",
      "[INFO] Processing for label C:\\\\Users\\SMSK_Narinda\\Desktop\\Research\\dataset\\Vasculitis Photos\n",
      "[INFO] Processing for label C:\\\\Users\\SMSK_Narinda\\Desktop\\Research\\dataset\\Warts Molluscum and other Viral Infections\n",
      "[STOP] \n",
      "\n",
      "[INFO] Processing for label C:\\\\Users\\SMSK_Narinda\\Desktop\\Research\\dataset\\Acne and Rosacea Photos\n",
      "[INFO] Processing for label C:\\\\Users\\SMSK_Narinda\\Desktop\\Research\\dataset\\Actinic Keratosis Basal Cell Carcinoma and other Malignant Lesions\n",
      "[INFO] Processing for label C:\\\\Users\\SMSK_Narinda\\Desktop\\Research\\dataset\\Atopic Dermatitis Photos\n",
      "[INFO] Processing for label C:\\\\Users\\SMSK_Narinda\\Desktop\\Research\\dataset\\Bullous Disease Photos\n",
      "[INFO] Processing for label C:\\\\Users\\SMSK_Narinda\\Desktop\\Research\\dataset\\Cellulitis Impetigo and other Bacterial Infections\n",
      "[INFO] Processing for label C:\\\\Users\\SMSK_Narinda\\Desktop\\Research\\dataset\\Eczema Photos\n",
      "[INFO] Processing for label C:\\\\Users\\SMSK_Narinda\\Desktop\\Research\\dataset\\Exanthems and Drug Eruptions\n",
      "[INFO] Processing for label C:\\\\Users\\SMSK_Narinda\\Desktop\\Research\\dataset\\Hair Loss Photos Alopecia and other Hair Diseases\n",
      "[INFO] Processing for label C:\\\\Users\\SMSK_Narinda\\Desktop\\Research\\dataset\\Herpes HPV and other STDs Photos\n",
      "[INFO] Processing for label C:\\\\Users\\SMSK_Narinda\\Desktop\\Research\\dataset\\Light Diseases and Disorders of Pigmentation\n",
      "[INFO] Processing for label C:\\\\Users\\SMSK_Narinda\\Desktop\\Research\\dataset\\Lupus and other Connective Tissue diseases\n",
      "[INFO] Processing for label C:\\\\Users\\SMSK_Narinda\\Desktop\\Research\\dataset\\Melanoma Skin Cancer Nevi and Moles\n",
      "[INFO] Processing for label C:\\\\Users\\SMSK_Narinda\\Desktop\\Research\\dataset\\Nail Fungus and other Nail Disease\n",
      "[INFO] Processing for label C:\\\\Users\\SMSK_Narinda\\Desktop\\Research\\dataset\\Poison Ivy Photos and other Contact Dermatitis\n",
      "[INFO] Processing for label C:\\\\Users\\SMSK_Narinda\\Desktop\\Research\\dataset\\Psoriasis pictures Lichen Planus and related diseases\n",
      "[INFO] Processing for label C:\\\\Users\\SMSK_Narinda\\Desktop\\Research\\dataset\\Scabies Lyme Disease and other Infestations and Bites\n",
      "[INFO] Processing for label C:\\\\Users\\SMSK_Narinda\\Desktop\\Research\\dataset\\Seborrheic Keratoses and other Benign Tumors\n",
      "[INFO] Processing for label C:\\\\Users\\SMSK_Narinda\\Desktop\\Research\\dataset\\Systemic Disease\n",
      "[INFO] Processing for label C:\\\\Users\\SMSK_Narinda\\Desktop\\Research\\dataset\\Tinea Ringworm Candidiasis and other Fungal Infections\n",
      "[INFO] Processing for label C:\\\\Users\\SMSK_Narinda\\Desktop\\Research\\dataset\\Urticaria Hives\n",
      "[INFO] Processing for label C:\\\\Users\\SMSK_Narinda\\Desktop\\Research\\dataset\\Vascular Tumors\n",
      "[INFO] Processing for label C:\\\\Users\\SMSK_Narinda\\Desktop\\Research\\dataset\\Vasculitis Photos\n",
      "[INFO] Processing for label C:\\\\Users\\SMSK_Narinda\\Desktop\\Research\\dataset\\Warts Molluscum and other Viral Infections\n",
      "[STOP] \n",
      "\n",
      "[INFO] Processing for label C:\\\\Users\\SMSK_Narinda\\Desktop\\Research\\dataset\\Acne and Rosacea Photos\n",
      "[INFO] Processing for label C:\\\\Users\\SMSK_Narinda\\Desktop\\Research\\dataset\\Actinic Keratosis Basal Cell Carcinoma and other Malignant Lesions\n",
      "[INFO] Processing for label C:\\\\Users\\SMSK_Narinda\\Desktop\\Research\\dataset\\Atopic Dermatitis Photos\n",
      "[INFO] Processing for label C:\\\\Users\\SMSK_Narinda\\Desktop\\Research\\dataset\\Bullous Disease Photos\n",
      "[INFO] Processing for label C:\\\\Users\\SMSK_Narinda\\Desktop\\Research\\dataset\\Cellulitis Impetigo and other Bacterial Infections\n",
      "[INFO] Processing for label C:\\\\Users\\SMSK_Narinda\\Desktop\\Research\\dataset\\Eczema Photos\n",
      "[INFO] Processing for label C:\\\\Users\\SMSK_Narinda\\Desktop\\Research\\dataset\\Exanthems and Drug Eruptions\n",
      "[INFO] Processing for label C:\\\\Users\\SMSK_Narinda\\Desktop\\Research\\dataset\\Hair Loss Photos Alopecia and other Hair Diseases\n",
      "[INFO] Processing for label C:\\\\Users\\SMSK_Narinda\\Desktop\\Research\\dataset\\Herpes HPV and other STDs Photos\n",
      "[INFO] Processing for label C:\\\\Users\\SMSK_Narinda\\Desktop\\Research\\dataset\\Light Diseases and Disorders of Pigmentation\n",
      "[INFO] Processing for label C:\\\\Users\\SMSK_Narinda\\Desktop\\Research\\dataset\\Lupus and other Connective Tissue diseases\n",
      "[INFO] Processing for label C:\\\\Users\\SMSK_Narinda\\Desktop\\Research\\dataset\\Melanoma Skin Cancer Nevi and Moles\n",
      "[INFO] Processing for label C:\\\\Users\\SMSK_Narinda\\Desktop\\Research\\dataset\\Nail Fungus and other Nail Disease\n",
      "[INFO] Processing for label C:\\\\Users\\SMSK_Narinda\\Desktop\\Research\\dataset\\Poison Ivy Photos and other Contact Dermatitis\n",
      "[INFO] Processing for label C:\\\\Users\\SMSK_Narinda\\Desktop\\Research\\dataset\\Psoriasis pictures Lichen Planus and related diseases\n",
      "[INFO] Processing for label C:\\\\Users\\SMSK_Narinda\\Desktop\\Research\\dataset\\Scabies Lyme Disease and other Infestations and Bites\n",
      "[INFO] Processing for label C:\\\\Users\\SMSK_Narinda\\Desktop\\Research\\dataset\\Seborrheic Keratoses and other Benign Tumors\n",
      "[INFO] Processing for label C:\\\\Users\\SMSK_Narinda\\Desktop\\Research\\dataset\\Systemic Disease\n",
      "[INFO] Processing for label C:\\\\Users\\SMSK_Narinda\\Desktop\\Research\\dataset\\Tinea Ringworm Candidiasis and other Fungal Infections\n",
      "[INFO] Processing for label C:\\\\Users\\SMSK_Narinda\\Desktop\\Research\\dataset\\Urticaria Hives\n",
      "[INFO] Processing for label C:\\\\Users\\SMSK_Narinda\\Desktop\\Research\\dataset\\Vascular Tumors\n",
      "[INFO] Processing for label C:\\\\Users\\SMSK_Narinda\\Desktop\\Research\\dataset\\Vasculitis Photos\n",
      "[INFO] Processing for label C:\\\\Users\\SMSK_Narinda\\Desktop\\Research\\dataset\\Warts Molluscum and other Viral Infections\n",
      "[STOP] \n",
      "\n",
      "[INFO] Processing for label C:\\\\Users\\SMSK_Narinda\\Desktop\\Research\\dataset\\Acne and Rosacea Photos\n",
      "[INFO] Processing for label C:\\\\Users\\SMSK_Narinda\\Desktop\\Research\\dataset\\Actinic Keratosis Basal Cell Carcinoma and other Malignant Lesions\n",
      "[INFO] Processing for label C:\\\\Users\\SMSK_Narinda\\Desktop\\Research\\dataset\\Atopic Dermatitis Photos\n",
      "[INFO] Processing for label C:\\\\Users\\SMSK_Narinda\\Desktop\\Research\\dataset\\Bullous Disease Photos\n",
      "[INFO] Processing for label C:\\\\Users\\SMSK_Narinda\\Desktop\\Research\\dataset\\Cellulitis Impetigo and other Bacterial Infections\n",
      "[INFO] Processing for label C:\\\\Users\\SMSK_Narinda\\Desktop\\Research\\dataset\\Eczema Photos\n",
      "[INFO] Processing for label C:\\\\Users\\SMSK_Narinda\\Desktop\\Research\\dataset\\Exanthems and Drug Eruptions\n",
      "[INFO] Processing for label C:\\\\Users\\SMSK_Narinda\\Desktop\\Research\\dataset\\Hair Loss Photos Alopecia and other Hair Diseases\n",
      "[INFO] Processing for label C:\\\\Users\\SMSK_Narinda\\Desktop\\Research\\dataset\\Herpes HPV and other STDs Photos\n",
      "[INFO] Processing for label C:\\\\Users\\SMSK_Narinda\\Desktop\\Research\\dataset\\Light Diseases and Disorders of Pigmentation\n",
      "[INFO] Processing for label C:\\\\Users\\SMSK_Narinda\\Desktop\\Research\\dataset\\Lupus and other Connective Tissue diseases\n",
      "[INFO] Processing for label C:\\\\Users\\SMSK_Narinda\\Desktop\\Research\\dataset\\Melanoma Skin Cancer Nevi and Moles\n",
      "[INFO] Processing for label C:\\\\Users\\SMSK_Narinda\\Desktop\\Research\\dataset\\Nail Fungus and other Nail Disease\n",
      "[INFO] Processing for label C:\\\\Users\\SMSK_Narinda\\Desktop\\Research\\dataset\\Poison Ivy Photos and other Contact Dermatitis\n",
      "[INFO] Processing for label C:\\\\Users\\SMSK_Narinda\\Desktop\\Research\\dataset\\Psoriasis pictures Lichen Planus and related diseases\n",
      "[INFO] Processing for label C:\\\\Users\\SMSK_Narinda\\Desktop\\Research\\dataset\\Scabies Lyme Disease and other Infestations and Bites\n",
      "[INFO] Processing for label C:\\\\Users\\SMSK_Narinda\\Desktop\\Research\\dataset\\Seborrheic Keratoses and other Benign Tumors\n",
      "[INFO] Processing for label C:\\\\Users\\SMSK_Narinda\\Desktop\\Research\\dataset\\Systemic Disease\n",
      "[INFO] Processing for label C:\\\\Users\\SMSK_Narinda\\Desktop\\Research\\dataset\\Tinea Ringworm Candidiasis and other Fungal Infections\n",
      "[INFO] Processing for label C:\\\\Users\\SMSK_Narinda\\Desktop\\Research\\dataset\\Urticaria Hives\n",
      "[INFO] Processing for label C:\\\\Users\\SMSK_Narinda\\Desktop\\Research\\dataset\\Vascular Tumors\n",
      "[INFO] Processing for label C:\\\\Users\\SMSK_Narinda\\Desktop\\Research\\dataset\\Vasculitis Photos\n",
      "[INFO] Processing for label C:\\\\Users\\SMSK_Narinda\\Desktop\\Research\\dataset\\Warts Molluscum and other Viral Infections\n",
      "[STOP] \n",
      "\n"
     ]
    }
   ],
   "source": [
    "for i in range (1,8):\n",
    "    for classes in subfolders:\n",
    "        print(\"[INFO] Processing for label \" + classes)\n",
    "        for filename in os.scandir(classes):\n",
    "            if filename.is_file():\n",
    "                # Mendapatkan path file dari objek filename\n",
    "                image_path = filename.path\n",
    "                # Membaca gambar dari path file\n",
    "                image = cv2.imread(image_path)\n",
    "                # Mendapatkan label dari nama subfolder\n",
    "                label = classes.split(os.path.sep)[-1]\n",
    "    \n",
    "                # Ekstrak fitur dari gambar dan histogram warna\n",
    "                hist = extract_color_histogram(image)\n",
    "    \n",
    "                # Menambahkan fitur dan label ke dalam list yang sesuai\n",
    "                features.append(hist)\n",
    "                labels.append(label)\n",
    "    print(\"[STOP] \\n\")"
   ]
  },
  {
   "cell_type": "code",
   "execution_count": 8,
   "metadata": {},
   "outputs": [
    {
     "name": "stdout",
     "output_type": "stream",
     "text": [
      "[INFO] processed 135023/23\n"
     ]
    }
   ],
   "source": [
    "print(\"[INFO] processed {}/{}\".format(len(labels), len(subfolders)))"
   ]
  },
  {
   "cell_type": "code",
   "execution_count": 10,
   "metadata": {},
   "outputs": [],
   "source": [
    "features = np.array(features)\n",
    "labels = np.array(labels)"
   ]
  },
  {
   "cell_type": "code",
   "execution_count": 11,
   "metadata": {},
   "outputs": [
    {
     "data": {
      "text/plain": [
       "(135023,)"
      ]
     },
     "execution_count": 11,
     "metadata": {},
     "output_type": "execute_result"
    }
   ],
   "source": [
    "labels.shape"
   ]
  },
  {
   "cell_type": "code",
   "execution_count": 12,
   "metadata": {},
   "outputs": [
    {
     "name": "stdout",
     "output_type": "stream",
     "text": [
      "[INFO] features matrix: 17282.94MB\n"
     ]
    }
   ],
   "source": [
    "print(\"[INFO] features matrix: {:.2f}MB\".format(\n",
    "\tfeatures.nbytes / (1024 * 1000.0)))"
   ]
  },
  {
   "cell_type": "code",
   "execution_count": 13,
   "metadata": {},
   "outputs": [],
   "source": [
    "(trainFeat, testFeat, trainLabels, testLabels) = train_test_split(\n",
    "\tfeatures, labels, test_size=0.3, random_state=42)"
   ]
  },
  {
   "cell_type": "code",
   "execution_count": 14,
   "metadata": {},
   "outputs": [],
   "source": [
    "ap = argparse.ArgumentParser()\n",
    "args = ap.parse_args(args=[])\n",
    "ap.add_argument(\"-k\", \"--neighbors\", type=int, default=4,\n",
    "\thelp=\"# of nearest neighbors for classification\")\n",
    "args = ap.parse_args(args=[])"
   ]
  },
  {
   "cell_type": "markdown",
   "metadata": {
    "jp-MarkdownHeadingCollapsed": true
   },
   "source": [
    "### Elbow Method"
   ]
  },
  {
   "cell_type": "code",
   "execution_count": null,
   "metadata": {},
   "outputs": [],
   "source": [
    "# Preprocessing\n",
    "rawImages = rawImages/255.0\n",
    "reshaped_rawImages = rawImages.reshape(len(rawImages), -1)\n",
    "reshaped_rawImages.shape"
   ]
  },
  {
   "cell_type": "code",
   "execution_count": null,
   "metadata": {},
   "outputs": [],
   "source": [
    "from sklearn.cluster import KMeans\n",
    "kmeans = KMeans(n_clusters = 23, random_state = 0)\n",
    "clusters = kmeans.fit_predict(reshaped_rawImages)\n",
    "kmeans.cluster_centers_.shape"
   ]
  },
  {
   "cell_type": "code",
   "execution_count": null,
   "metadata": {},
   "outputs": [],
   "source": [
    "\n",
    "# Membuat x_data berdasarkan jumlah fitur (49152)\n",
    "x_data = np.arange(49152)\n",
    "\n",
    "# Menghasilkan palet warna dengan 23 warna\n",
    "colors = plt.cm.jet(np.linspace(0, 1, 23))\n",
    "\n",
    "# Membuat scatter plot untuk setiap cluster\n",
    "plt.figure(figsize=(10, 6))\n",
    "for i in range(23):\n",
    "    plt.scatter(x_data, kmeans.cluster_centers_[i], color=colors[i], alpha=0.01, s=20)  # Mengurangi alpha dan meningkatkan s\n",
    "\n",
    "plt.xlabel('Features')\n",
    "plt.ylabel('Cluster Centers')\n",
    "plt.title('Cluster Centers for KMeans Clustering (n_clusters=23)')\n",
    "plt.show()"
   ]
  },
  {
   "cell_type": "code",
   "execution_count": null,
   "metadata": {},
   "outputs": [],
   "source": [
    "# mapping labels from cluster to original labels\n",
    "def get_reference_dict(clusters,labels):\n",
    "    reference_label = {}\n",
    "    # For loop to run through each label of cluster label\n",
    "    for i in range(len(np.unique(clusters))):\n",
    "        index = np.where(clusters == i,1,0)\n",
    "        num = np.bincount(labels[index==1]).argmax()\n",
    "        reference_label[i] = num\n",
    "    return reference_label\n",
    "    \n",
    "# Mapping predictions to original labels\n",
    "def get_labels(clusters,labels):\n",
    "    temp_labels = np.random.rand(len(clusters))\n",
    "    for i in range(len(clusters)):\n",
    "        temp_labels[i] = reference_labels[clusters[i]]\n",
    "    return temp_labels"
   ]
  },
  {
   "cell_type": "code",
   "execution_count": null,
   "metadata": {},
   "outputs": [],
   "source": [
    "reference_labels = get_reference_dict(clusters,labels)\n",
    "predicted_labels = get_labels(clusters,reference_labels)\n",
    "print(accuracy_score(predicted_labels,labels))"
   ]
  },
  {
   "cell_type": "markdown",
   "metadata": {},
   "source": [
    "### KNN Classifier Histogram (ekstraksi warna) K-fold Cross Validation"
   ]
  },
  {
   "cell_type": "code",
   "execution_count": null,
   "metadata": {},
   "outputs": [
    {
     "name": "stdout",
     "output_type": "stream",
     "text": [
      "[INFO] evaluating histogram accuracy...\n"
     ]
    }
   ],
   "source": [
    "# k-NN Historigram\n",
    "\n",
    "print(\"[INFO] evaluating histogram accuracy...\")\n",
    "modelFeat = KNeighborsClassifier(n_neighbors=args.neighbors)\n",
    "modelFeat.fit(trainFeat, trainLabels)\n",
    "acc = modelFeat.score(testFeat, testLabels)\n",
    "print(\"[INFO] k-NN classifier: k=%d\" % args.neighbors)\n",
    "print(\"[INFO] histogram accuracy: {:.2f}%\".format(acc * 100))"
   ]
  },
  {
   "cell_type": "code",
   "execution_count": null,
   "metadata": {},
   "outputs": [],
   "source": [
    "# Evaluasi KNN cara 2 Histogram K-fold Cross Validation\n",
    "\n",
    "scores = cross_val_score(modelFeat, trainFeat, trainLabels, cv=5, scoring='accuracy')\n",
    "print(\"Accuracy : %0.2f (+/- %0.2f)\" % (scores.mean(), scores.std()*2))"
   ]
  },
  {
   "cell_type": "code",
   "execution_count": null,
   "metadata": {},
   "outputs": [],
   "source": [
    "print(\"[RESULT] score mean: \" )\n",
    "print(scores.mean())"
   ]
  },
  {
   "cell_type": "markdown",
   "metadata": {},
   "source": [
    "# Code Below"
   ]
  },
  {
   "cell_type": "markdown",
   "metadata": {},
   "source": [
    "## Confussion Matrix"
   ]
  },
  {
   "cell_type": "markdown",
   "metadata": {},
   "source": [
    "Source : https://medium.com/analytics-vidhya/how-to-create-a-confusion-matrix-with-the-test-result-in-your-training-model-802b1315d8ee"
   ]
  },
  {
   "cell_type": "code",
   "execution_count": null,
   "metadata": {},
   "outputs": [],
   "source": [
    "from tensorflow.keras.preprocessing.image import ImageDataGenerator"
   ]
  },
  {
   "cell_type": "markdown",
   "metadata": {},
   "source": [
    "## K Fold Cross Validation"
   ]
  },
  {
   "cell_type": "markdown",
   "metadata": {},
   "source": [
    "Source:\n",
    "https://www.analyticsvidhya.com/blog/2022/02/k-fold-cross-validation-technique-and-its-essentials/"
   ]
  },
  {
   "cell_type": "code",
   "execution_count": null,
   "metadata": {},
   "outputs": [],
   "source": [
    "knn = KNeighborsClassifier(n_neighbors=24)\n",
    "scores = cross_val_score(knn, X_train, y_train, cv=24, scoring='accuracy')\n",
    "print(\"Accuracy : %0.2f (+/- %0.2f)\" % (scores.mean(), scores.std()*2))"
   ]
  },
  {
   "cell_type": "markdown",
   "metadata": {
    "editable": true,
    "slideshow": {
     "slide_type": ""
    },
    "tags": []
   },
   "source": [
    "## Split Class"
   ]
  },
  {
   "cell_type": "code",
   "execution_count": null,
   "metadata": {},
   "outputs": [],
   "source": [
    "splitfolders.ratio(data_path, output=\"dataset2\",\n",
    "                  seed=42,\n",
    "                  ratio=(.7, .2, .1),\n",
    "                  group_prefix = None)\n",
    "\n",
    "splitfolders.fixed(data_path, output=\"dataset2\",\n",
    "                   seed=42,\n",
    "                  fixed=(200, 200, 100),\n",
    "                  oversample=True,\n",
    "                  group_prefix=None)"
   ]
  }
 ],
 "metadata": {
  "accelerator": "GPU",
  "colab": {
   "collapsed_sections": [
    "TmOGDNw1Z-vV"
   ],
   "provenance": []
  },
  "kernelspec": {
   "display_name": "Python 3 (ipykernel)",
   "language": "python",
   "name": "python3"
  },
  "language_info": {
   "codemirror_mode": {
    "name": "ipython",
    "version": 3
   },
   "file_extension": ".py",
   "mimetype": "text/x-python",
   "name": "python",
   "nbconvert_exporter": "python",
   "pygments_lexer": "ipython3",
   "version": "3.11.5"
  }
 },
 "nbformat": 4,
 "nbformat_minor": 4
}
