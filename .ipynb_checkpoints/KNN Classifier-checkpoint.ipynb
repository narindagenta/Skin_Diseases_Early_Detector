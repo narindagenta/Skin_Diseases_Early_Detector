{
 "cells": [
  {
   "cell_type": "markdown",
   "metadata": {
    "id": "bVcMjDpvzjh2"
   },
   "source": [
    "## Initialization"
   ]
  },
  {
   "cell_type": "code",
   "execution_count": 1,
   "metadata": {
    "id": "ialmvvEBzjTu"
   },
   "outputs": [],
   "source": [
    "import os\n",
    "import cv2\n",
    "import glob\n",
    "import imutils\n",
    "import argparse\n",
    "import numpy as np\n",
    "import pandas as pd\n",
    "import plotly.express as px\n",
    "import matplotlib.pyplot as plt\n",
    "import splitfolders"
   ]
  },
  {
   "cell_type": "code",
   "execution_count": null,
   "metadata": {
    "id": "sU1zV3zVJIGW"
   },
   "outputs": [],
   "source": [
    "from sklearn.neighbors import KNeighborsClassifier\n",
    "from sklearn.preprocessing import LabelEncoder\n",
    "from sklearn.model_selection import train_test_split\n",
    "from sklearn.utils import shuffle\n",
    "from sklearn import preprocessing\n",
    "from sklearn.model_selection import cross_val_score\n",
    "from skimage.feature import hog"
   ]
  },
  {
   "cell_type": "code",
   "execution_count": 86,
   "metadata": {
    "id": "CumS5NOZKLYo"
   },
   "outputs": [],
   "source": [
    "data_path = r\"C:\\\\Users\\SMSK_Narinda\\Desktop\\Research\\dataset2\"\n",
    "train_path = r\"C:\\\\Users\\SMSK_Narinda\\Desktop\\Research\\dataset2\\train\"\n",
    "test_path = r\"C:\\\\Users\\SMSK_Narinda\\Desktop\\Research\\dataset2\\test\"\n",
    "val_path = r\"C:\\\\Users\\SMSK_Narinda\\Desktop\\Research\\dataset2\\val\"\n",
    "img_size = 200\n",
    "num_classes = 23\n",
    "EPOCHS = 20\n",
    "BATCH_SIZE = 64"
   ]
  },
  {
   "cell_type": "code",
   "execution_count": 87,
   "metadata": {},
   "outputs": [
    {
     "name": "stdout",
     "output_type": "stream",
     "text": [
      "c:\\\\users\\smsk_narinda\\desktop\\research\\dataset2\\test\\acne_and_rosacea_photos\n",
      "c:\\\\users\\smsk_narinda\\desktop\\research\\dataset2\\test\\actinic_keratosis_basal_cell_carcinoma_and_other_malignant_lesions\n",
      "c:\\\\users\\smsk_narinda\\desktop\\research\\dataset2\\test\\atopic_dermatitis_photos\n",
      "c:\\\\users\\smsk_narinda\\desktop\\research\\dataset2\\test\\bullous_disease_photos\n",
      "c:\\\\users\\smsk_narinda\\desktop\\research\\dataset2\\test\\cellulitis_impetigo_and_other_bacterial_infections\n",
      "c:\\\\users\\smsk_narinda\\desktop\\research\\dataset2\\test\\eczema_photos\n",
      "c:\\\\users\\smsk_narinda\\desktop\\research\\dataset2\\test\\exanthems_and_drug_eruptions\n",
      "c:\\\\users\\smsk_narinda\\desktop\\research\\dataset2\\test\\hair_loss_photos_alopecia_and_other _hair_diseases\n",
      "c:\\\\users\\smsk_narinda\\desktop\\research\\dataset2\\test\\herpes_hpv_other_stds_photos\n",
      "c:\\\\users\\smsk_narinda\\desktop\\research\\dataset2\\test\\light_diseases_and_disorders_of_pigmentation\n",
      "c:\\\\users\\smsk_narinda\\desktop\\research\\dataset2\\test\\lupus_and_other_connective_tissue_diseases\n",
      "c:\\\\users\\smsk_narinda\\desktop\\research\\dataset2\\test\\melanoma_skin_cancer_nevi_and_moles\n",
      "c:\\\\users\\smsk_narinda\\desktop\\research\\dataset2\\test\\nail_fungus_and_other_nail_disease\n",
      "c:\\\\users\\smsk_narinda\\desktop\\research\\dataset2\\test\\poison_ivy_photos_and_other_contact_dermatitis\n",
      "c:\\\\users\\smsk_narinda\\desktop\\research\\dataset2\\test\\psoriasis_pictures_lichen_planus_and_related_diseases\n",
      "c:\\\\users\\smsk_narinda\\desktop\\research\\dataset2\\test\\scabies_lyme_disease_and_other_infestations_and_bites\n",
      "c:\\\\users\\smsk_narinda\\desktop\\research\\dataset2\\test\\seborrheic_keratoses_and_other_benign_tumors\n",
      "c:\\\\users\\smsk_narinda\\desktop\\research\\dataset2\\test\\systemic_disease\n",
      "c:\\\\users\\smsk_narinda\\desktop\\research\\dataset2\\test\\tinea_ringworm_candidiasis_and_other_fungal_infections\n",
      "c:\\\\users\\smsk_narinda\\desktop\\research\\dataset2\\test\\urticaria_hives\n",
      "c:\\\\users\\smsk_narinda\\desktop\\research\\dataset2\\test\\vascular_tumors\n",
      "c:\\\\users\\smsk_narinda\\desktop\\research\\dataset2\\test\\vasculitis_photos\n",
      "c:\\\\users\\smsk_narinda\\desktop\\research\\dataset2\\test\\warts_molluscum_and_other_viral_infections\n"
     ]
    }
   ],
   "source": [
    "subfolders= [os.path.join(test_path, d) for d in os.listdir(test_path) if os.path.isdir(os.path.join(test_path, d))]\n",
    "labels = []\n",
    "\n",
    "for label in subfolders:\n",
    "    print(os.path.normcase(label))\n",
    "    labels.append(label)"
   ]
  },
  {
   "cell_type": "markdown",
   "metadata": {},
   "source": [
    "## KNN Classifier"
   ]
  },
  {
   "cell_type": "code",
   "execution_count": 88,
   "metadata": {},
   "outputs": [],
   "source": [
    "def image_2_feature_vector(image, dsize=(128,128)):\n",
    "    ###resize image to be fixed size, flatten image into raw pixel\n",
    "    return cv2.resize(image, dsize).flatten()"
   ]
  },
  {
   "cell_type": "code",
   "execution_count": 89,
   "metadata": {},
   "outputs": [],
   "source": [
    "def extract_color_histogram(image, bins=(32,32,32)):\n",
    "    ###extract 3d color\n",
    "    hsv = cv2.cvtColor(image, cv2.COLOR_BGR2HSV)\n",
    "    hist = cv2.calcHist([hsv], [0,1,2], None, bins,\n",
    "                       [0, 180, 0 , 256, 0, 256])\n",
    "    \n",
    "    ### handle normalizing the historigram\n",
    "    if imutils.is_cv2():\n",
    "        hist = cv2.normalize(hist)\n",
    "    \n",
    "    else :\n",
    "        cv2.normalize(hist,hist)\n",
    "        \n",
    "    return hist.flatten()"
   ]
  },
  {
   "cell_type": "code",
   "execution_count": 90,
   "metadata": {},
   "outputs": [],
   "source": [
    "### initialize the raw pixel intensities matrix\n",
    "rawImages =[]\n",
    "features = []\n",
    "labels = []"
   ]
  },
  {
   "cell_type": "code",
   "execution_count": null,
   "metadata": {
    "editable": true,
    "slideshow": {
     "slide_type": ""
    },
    "tags": []
   },
   "outputs": [],
   "source": [
    "for (i, classes) in enumerate(subfolders):\n",
    "    for classes in subfolders:\n",
    "        for filename in os.scandir(classes):\n",
    "            if filename.is_file():\n",
    "                # Mendapatkan path file dari objek filename\n",
    "                image_path = filename.path\n",
    "                # Membaca gambar dari path file\n",
    "                image = cv2.imread(image_path)\n",
    "                # Mendapatkan label dari nama subfolder\n",
    "                label = classes.split(os.path.sep)[-1]\n",
    "\n",
    "                # Ekstrak fitur dari gambar dan histogram warna\n",
    "                pixels = image_2_feature_vector(image)\n",
    "                hist = extract_color_histogram(image)\n",
    "\n",
    "                # Menambahkan fitur dan label ke dalam list yang sesuai\n",
    "                rawImages.append(pixels)\n",
    "                features.append(hist)\n",
    "                labels.append(label)\n",
    "            \n",
    "    if i > 0 and ((i + 1)% 200 == 0 or i ==len(subfolders)-1):\n",
    "        # Menampilkan pesan jika sudah diproses sejumlah tertentu gambar\n",
    "        print(\"[INFO] processed {}/{}\".format(len(labels), len(subfolders)))"
   ]
  },
  {
   "cell_type": "code",
   "execution_count": null,
   "metadata": {},
   "outputs": [],
   "source": [
    "rawImages = np.array(rawImages)\n",
    "features = np.array(features)\n",
    "labels = np.array(labels)"
   ]
  },
  {
   "cell_type": "code",
   "execution_count": null,
   "metadata": {},
   "outputs": [],
   "source": [
    "print(\"[INFO] pixels matrix: {:.2f}MB\".format(\n",
    "\trawImages.nbytes / (1024 * 1000.0)))\n",
    "print(\"[INFO] features matrix: {:.2f}MB\".format(\n",
    "\tfeatures.nbytes / (1024 * 1000.0)))"
   ]
  },
  {
   "cell_type": "code",
   "execution_count": null,
   "metadata": {},
   "outputs": [],
   "source": [
    "(trainRI, testRI, trainRL, testRL) = train_test_split(\n",
    "\trawImages, labels, test_size=0.15, random_state=42)\n",
    "(trainFeat, testFeat, trainLabels, testLabels) = train_test_split(\n",
    "\tfeatures, labels, test_size=0.15, random_state=42)"
   ]
  },
  {
   "cell_type": "markdown",
   "metadata": {},
   "source": [
    "### Cara 1 KNN Classifier"
   ]
  },
  {
   "cell_type": "code",
   "execution_count": null,
   "metadata": {},
   "outputs": [],
   "source": [
    "ap = argparse.ArgumentParser()\n",
    "args = ap.parse_args(args=[])\n",
    "ap.add_argument(\"-d\", \"--dataset\",\n",
    "\thelp=\"path to input dataset\")\n",
    "ap.add_argument(\"-k\", \"--neighbors\", type=int, default=4,\n",
    "\thelp=\"# of nearest neighbors for classification\")\n",
    "args = ap.parse_args(args=[])"
   ]
  },
  {
   "cell_type": "code",
   "execution_count": null,
   "metadata": {},
   "outputs": [],
   "source": [
    "# k-NN raw Images\n",
    "print(\"\\n\")\n",
    "print(\"[INFO] evaluating raw pixel accuracy...\")\n",
    "modelRI = KNeighborsClassifier(n_neighbors=args.neighbors)\n",
    "modelRI.fit(trainRI, trainRL)\n",
    "accRI = modelRI.score(testRI, testRL)\n",
    "print(\"[INFO] k-NN classifier: k=%d\" % args.neighbors)\n",
    "print(\"[INFO] raw pixel accuracy: {:.2f}%\".format(accRI * 100))"
   ]
  },
  {
   "cell_type": "code",
   "execution_count": null,
   "metadata": {},
   "outputs": [],
   "source": [
    "# Cross Validation\n",
    "\n",
    "knn = KNeighborsClassifier(n_neighbors=24)\n",
    "scores = cross_val_score(knn, X_train, y_train, cv=24, scoring='accuracy')\n",
    "print(\"Accuracy : %0.2f (+/- %0.2f)\" % (scores.mean(), scores.std()*2))"
   ]
  },
  {
   "cell_type": "code",
   "execution_count": 15,
   "metadata": {},
   "outputs": [
    {
     "name": "stdout",
     "output_type": "stream",
     "text": [
      "\n",
      "\n",
      "[INFO] evaluating histogram accuracy...\n",
      "[INFO] k-NN classifier: k=4\n",
      "[INFO] histogram accuracy: 99.91%\n"
     ]
    }
   ],
   "source": [
    "# k-NN Historigram\n",
    "print(\"\\n\")\n",
    "print(\"[INFO] evaluating histogram accuracy...\")\n",
    "model = KNeighborsClassifier(n_neighbors=args.neighbors)\n",
    "model.fit(trainFeat, trainLabels)\n",
    "acc = model.score(testFeat, testLabels)\n",
    "print(\"[INFO] k-NN classifier: k=%d\" % args.neighbors)\n",
    "print(\"[INFO] histogram accuracy: {:.2f}%\".format(acc * 100))\n"
   ]
  },
  {
   "cell_type": "markdown",
   "metadata": {},
   "source": [
    "### Cara 2 KNN Classifier"
   ]
  },
  {
   "cell_type": "code",
   "execution_count": 30,
   "metadata": {},
   "outputs": [],
   "source": [
    "folders = [os.path.join(train_path, d) for d in os.listdir(train_path) if os.path.isdir(os.path.join(train_path, d))]\n",
    "\n",
    "train_images = []\n",
    "train_labels = []\n",
    "\n",
    "for folder in folders:\n",
    "    folder_path = os.path.join(train_path, folder)\n",
    "    for filename in os.listdir(folder_path):\n",
    "        image_path = os.path.join(folder_path, filename)\n",
    "        image = cv2.imread(image_path, cv2.IMREAD_GRAYSCALE)\n",
    "        image = cv2.resize(image, (224, 224))\n",
    "        hog_features = hog(image, orientations=9, pixels_per_cell=(8, 8), cells_per_block=(2, 2), feature_vector=True)\n",
    "        train_images.append(hog_features)\n",
    "        train_labels.append(folders.index(folder))"
   ]
  },
  {
   "cell_type": "code",
   "execution_count": 31,
   "metadata": {},
   "outputs": [],
   "source": [
    "test_images = []\n",
    "test_labels = []\n",
    "for folder in folders:\n",
    "    folder_path = os.path.join(test_path, folder)\n",
    "    for filename in os.listdir(folder_path):\n",
    "        image_path = os.path.join(folder_path, filename)\n",
    "        image = cv2.imread(image_path, cv2.IMREAD_GRAYSCALE)\n",
    "        image = cv2.resize(image, (224, 224))\n",
    "        hog_features = hog(image, orientations=9, pixels_per_cell=(8, 8), cells_per_block=(2, 2), feature_vector=True)\n",
    "        test_images.append(hog_features)\n",
    "        test_labels.append(folders.index(folder))"
   ]
  },
  {
   "cell_type": "code",
   "execution_count": 32,
   "metadata": {},
   "outputs": [],
   "source": [
    "X_train = np.array(train_images)\n",
    "y_train = np.array(train_labels)\n",
    "X_test = np.array(test_images)\n",
    "y_test = np.array(test_labels)"
   ]
  },
  {
   "cell_type": "markdown",
   "metadata": {},
   "source": [
    "## K Fold Cross Validation"
   ]
  },
  {
   "cell_type": "markdown",
   "metadata": {},
   "source": [
    "Source:\n",
    "https://www.analyticsvidhya.com/blog/2022/02/k-fold-cross-validation-technique-and-its-essentials/"
   ]
  },
  {
   "cell_type": "code",
   "execution_count": null,
   "metadata": {},
   "outputs": [],
   "source": [
    "# Evaluasi KNN cara 1\n",
    "\n",
    "scores = cross_val_score(model, X_t"
   ]
  },
  {
   "cell_type": "code",
   "execution_count": 40,
   "metadata": {},
   "outputs": [
    {
     "name": "stdout",
     "output_type": "stream",
     "text": [
      "Accuracy : 0.09 (+/- 0.04)\n"
     ]
    }
   ],
   "source": [
    "knn = KNeighborsClassifier(n_neighbors=24)\n",
    "scores = cross_val_score(knn, X_train, y_train, cv=24, scoring='accuracy')\n",
    "print(\"Accuracy : %0.2f (+/- %0.2f)\" % (scores.mean(), scores.std()*2))"
   ]
  },
  {
   "cell_type": "markdown",
   "metadata": {
    "editable": true,
    "jp-MarkdownHeadingCollapsed": true,
    "slideshow": {
     "slide_type": ""
    },
    "tags": []
   },
   "source": [
    "## Split Class"
   ]
  },
  {
   "cell_type": "code",
   "execution_count": 10,
   "metadata": {},
   "outputs": [
    {
     "name": "stderr",
     "output_type": "stream",
     "text": [
      "\n",
      "Copying files: 0 files [00:00, ? files/s]\u001b[A\n",
      "Copying files: 102 files [00:00, 1014.64 files/s]\u001b[A\n",
      "Copying files: 263 files [00:00, 1359.89 files/s]\u001b[A\n",
      "Copying files: 425 files [00:00, 1474.78 files/s]\u001b[A\n",
      "Copying files: 589 files [00:00, 1536.61 files/s]\u001b[A\n",
      "Copying files: 757 files [00:00, 1585.13 files/s]\u001b[A\n",
      "Copying files: 916 files [00:00, 1304.13 files/s]\u001b[A\n",
      "Copying files: 1072 files [00:00, 1374.88 files/s]\u001b[A\n",
      "Copying files: 1219 files [00:00, 1400.21 files/s]\u001b[A\n",
      "Copying files: 1369 files [00:00, 1427.12 files/s]\u001b[A\n",
      "Copying files: 1515 files [00:01, 1426.39 files/s]\u001b[A\n",
      "Copying files: 1660 files [00:01, 1422.96 files/s]\u001b[A\n",
      "Copying files: 1804 files [00:01, 1413.59 files/s]\u001b[A\n",
      "Copying files: 1958 files [00:01, 1448.50 files/s]\u001b[A\n",
      "Copying files: 2107 files [00:01, 1458.49 files/s]\u001b[A\n",
      "Copying files: 2267 files [00:01, 1498.09 files/s]\u001b[A\n",
      "Copying files: 2418 files [00:01, 1432.89 files/s]\u001b[A\n",
      "Copying files: 2583 files [00:01, 1493.21 files/s]\u001b[A\n",
      "Copying files: 2742 files [00:01, 1519.08 files/s]\u001b[A\n",
      "Copying files: 2904 files [00:01, 1546.31 files/s]\u001b[A\n",
      "Copying files: 3060 files [00:02, 1463.73 files/s]\u001b[A\n",
      "Copying files: 3226 files [00:02, 1517.34 files/s]\u001b[A\n",
      "Copying files: 3396 files [00:02, 1567.71 files/s]\u001b[A\n",
      "Copying files: 3554 files [00:02, 1521.30 files/s]\u001b[A\n",
      "Copying files: 3708 files [00:02, 1490.94 files/s]\u001b[A\n",
      "Copying files: 3858 files [00:02, 1292.88 files/s]\u001b[A\n",
      "Copying files: 4018 files [00:02, 1371.29 files/s]\u001b[A\n",
      "Copying files: 4179 files [00:02, 1434.08 files/s]\u001b[A\n",
      "Copying files: 4340 files [00:02, 1481.04 files/s]\u001b[A\n",
      "Copying files: 4505 files [00:03, 1526.88 files/s]\u001b[A\n",
      "Copying files: 4666 files [00:03, 1548.53 files/s]\u001b[A\n",
      "Copying files: 4825 files [00:03, 1558.24 files/s]\u001b[A\n",
      "Copying files: 4992 files [00:03, 1588.63 files/s]\u001b[A\n",
      "Copying files: 5159 files [00:03, 1610.16 files/s]\u001b[A\n",
      "Copying files: 5326 files [00:03, 1625.35 files/s]\u001b[A\n",
      "Copying files: 5489 files [00:03, 1535.26 files/s]\u001b[A\n",
      "Copying files: 5644 files [00:03, 1528.64 files/s]\u001b[A\n",
      "Copying files: 5808 files [00:03, 1558.41 files/s]\u001b[A\n",
      "Copying files: 5965 files [00:04, 1524.72 files/s]\u001b[A\n",
      "Copying files: 6125 files [00:04, 1544.13 files/s]\u001b[A\n",
      "Copying files: 6280 files [00:04, 1437.13 files/s]\u001b[A\n",
      "Copying files: 6440 files [00:04, 1480.46 files/s]\u001b[A\n",
      "Copying files: 6604 files [00:04, 1523.64 files/s]\u001b[A\n",
      "Copying files: 6758 files [00:04, 1414.48 files/s]\u001b[A\n",
      "Copying files: 6922 files [00:04, 1474.68 files/s]\u001b[A\n",
      "Copying files: 7083 files [00:04, 1510.70 files/s]\u001b[A\n",
      "Copying files: 7243 files [00:04, 1534.04 files/s]\u001b[A\n",
      "Copying files: 7405 files [00:04, 1556.65 files/s]\u001b[A\n",
      "Copying files: 7562 files [00:05, 1466.01 files/s]\u001b[A\n",
      "Copying files: 7716 files [00:05, 1484.69 files/s]\u001b[A\n",
      "Copying files: 7868 files [00:05, 1492.56 files/s]\u001b[A\n",
      "Copying files: 8019 files [00:05, 1426.66 files/s]\u001b[A\n",
      "Copying files: 8170 files [00:05, 1448.11 files/s]\u001b[A\n",
      "Copying files: 8329 files [00:05, 1486.70 files/s]\u001b[A\n",
      "Copying files: 8482 files [00:05, 1497.00 files/s]\u001b[A\n",
      "Copying files: 8633 files [00:05, 1301.31 files/s]\u001b[A\n",
      "Copying files: 8792 files [00:05, 1376.32 files/s]\u001b[A\n",
      "Copying files: 8952 files [00:06, 1435.85 files/s]\u001b[A\n",
      "Copying files: 9105 files [00:06, 1460.24 files/s]\u001b[A\n",
      "Copying files: 9263 files [00:06, 1492.34 files/s]\u001b[A\n",
      "Copying files: 9426 files [00:06, 1529.97 files/s]\u001b[A\n",
      "Copying files: 9588 files [00:06, 1553.95 files/s]\u001b[A\n",
      "Copying files: 9752 files [00:06, 1576.85 files/s]\u001b[A\n",
      "Copying files: 9911 files [00:06, 1456.47 files/s]\u001b[A\n",
      "Copying files: 10070 files [00:06, 1491.70 files/s]\u001b[A\n",
      "Copying files: 10222 files [00:06, 1227.56 files/s]\u001b[A\n",
      "Copying files: 10383 files [00:07, 1321.57 files/s]\u001b[A\n",
      "Copying files: 10542 files [00:07, 1390.28 files/s]\u001b[A\n",
      "Copying files: 10699 files [00:07, 1437.27 files/s]\u001b[A\n",
      "Copying files: 10859 files [00:07, 1480.69 files/s]\u001b[A\n",
      "Copying files: 11013 files [00:07, 1495.37 files/s]\u001b[A\n",
      "Copying files: 11172 files [00:07, 1520.44 files/s]\u001b[A\n",
      "Copying files: 11329 files [00:07, 1532.56 files/s]\u001b[A\n",
      "Copying files: 11484 files [00:07, 1526.55 files/s]\u001b[A\n",
      "Copying files: 11643 files [00:07, 1542.83 files/s]\u001b[A\n",
      "Copying files: 11800 files [00:07, 1548.45 files/s]\u001b[A\n",
      "Copying files: 11956 files [00:08, 1452.84 files/s]\u001b[A\n",
      "Copying files: 12116 files [00:08, 1492.41 files/s]\u001b[A\n",
      "Copying files: 12267 files [00:08, 1495.21 files/s]\u001b[A\n",
      "Copying files: 12429 files [00:08, 1529.22 files/s]\u001b[A\n",
      "Copying files: 12583 files [00:08, 1280.80 files/s]\u001b[A\n",
      "Copying files: 12743 files [00:08, 1361.79 files/s]\u001b[A\n",
      "Copying files: 12901 files [00:08, 1418.74 files/s]\u001b[A\n",
      "Copying files: 13059 files [00:08, 1461.46 files/s]\u001b[A\n",
      "Copying files: 13216 files [00:08, 1490.07 files/s]\u001b[A\n",
      "Copying files: 13374 files [00:09, 1513.70 files/s]\u001b[A\n",
      "Copying files: 13529 files [00:09, 1521.94 files/s]\u001b[A\n",
      "Copying files: 13687 files [00:09, 1536.61 files/s]\u001b[A\n",
      "Copying files: 13850 files [00:09, 1561.74 files/s]\u001b[A\n",
      "Copying files: 14013 files [00:09, 1579.50 files/s]\u001b[A\n",
      "Copying files: 14172 files [00:09, 1453.87 files/s]\u001b[A\n",
      "Copying files: 14332 files [00:09, 1492.65 files/s]\u001b[A\n",
      "Copying files: 14498 files [00:09, 1538.16 files/s]\u001b[A\n",
      "Copying files: 14659 files [00:09, 1556.59 files/s]\u001b[A\n",
      "Copying files: 14822 files [00:10, 1575.61 files/s]\u001b[A\n",
      "Copying files: 14981 files [00:10, 1298.19 files/s]\u001b[A\n",
      "Copying files: 15133 files [00:10, 1353.31 files/s]\u001b[A\n",
      "Copying files: 15298 files [00:10, 1430.82 files/s]\u001b[A\n",
      "Copying files: 15461 files [00:10, 1483.76 files/s]\u001b[A\n",
      "Copying files: 15624 files [00:10, 1522.86 files/s]\u001b[A\n",
      "Copying files: 15782 files [00:10, 1536.96 files/s]\u001b[A\n",
      "Copying files: 15939 files [00:10, 1539.83 files/s]\u001b[A\n",
      "Copying files: 16095 files [00:10, 1513.14 files/s]\u001b[A\n",
      "Copying files: 16248 files [00:11, 1486.27 files/s]\u001b[A\n",
      "Copying files: 16407 files [00:11, 1513.92 files/s]\u001b[A\n",
      "Copying files: 16560 files [00:11, 1470.29 files/s]\u001b[A\n",
      "Copying files: 16721 files [00:11, 1508.18 files/s]\u001b[A\n",
      "Copying files: 16873 files [00:11, 1439.92 files/s]\u001b[A\n",
      "Copying files: 17038 files [00:11, 1497.25 files/s]\u001b[A\n",
      "Copying files: 17203 files [00:11, 1538.90 files/s]\u001b[A\n",
      "Copying files: 17367 files [00:11, 1565.93 files/s]\u001b[A\n",
      "Copying files: 17525 files [00:11, 1482.82 files/s]\u001b[A\n",
      "Copying files: 17689 files [00:11, 1525.12 files/s]\u001b[A\n",
      "Copying files: 17849 files [00:12, 1544.34 files/s]\u001b[A\n",
      "Copying files: 18005 files [00:12, 1331.19 files/s]\u001b[A\n",
      "Copying files: 18165 files [00:12, 1400.04 files/s]\u001b[A\n",
      "Copying files: 18320 files [00:12, 1438.92 files/s]\u001b[A\n",
      "Copying files: 18468 files [00:12, 1436.52 files/s]\u001b[A\n",
      "Copying files: 18632 files [00:12, 1492.07 files/s]\u001b[A\n",
      "Copying files: 18787 files [00:12, 1506.48 files/s]\u001b[A\n",
      "Copying files: 18946 files [00:12, 1528.47 files/s]\u001b[A\n",
      "Copying files: 19106 files [00:12, 1547.07 files/s]\u001b[A\n",
      "Copying files: 19289 files [00:13, 1478.07 files/s]\u001b[A\n"
     ]
    },
    {
     "ename": "ValueError",
     "evalue": "Using fixed with 3 values together with oversampling is not implemented.",
     "output_type": "error",
     "traceback": [
      "\u001b[1;31m---------------------------------------------------------------------------\u001b[0m",
      "\u001b[1;31mValueError\u001b[0m                                Traceback (most recent call last)",
      "Cell \u001b[1;32mIn[10], line 6\u001b[0m\n\u001b[0;32m      1\u001b[0m splitfolders\u001b[38;5;241m.\u001b[39mratio(data_path, output\u001b[38;5;241m=\u001b[39m\u001b[38;5;124m\"\u001b[39m\u001b[38;5;124mdataset2\u001b[39m\u001b[38;5;124m\"\u001b[39m,\n\u001b[0;32m      2\u001b[0m                   seed\u001b[38;5;241m=\u001b[39m\u001b[38;5;241m42\u001b[39m,\n\u001b[0;32m      3\u001b[0m                   ratio\u001b[38;5;241m=\u001b[39m(\u001b[38;5;241m.7\u001b[39m, \u001b[38;5;241m.2\u001b[39m, \u001b[38;5;241m.1\u001b[39m),\n\u001b[0;32m      4\u001b[0m                   group_prefix \u001b[38;5;241m=\u001b[39m \u001b[38;5;28;01mNone\u001b[39;00m)\n\u001b[1;32m----> 6\u001b[0m splitfolders\u001b[38;5;241m.\u001b[39mfixed(data_path, output\u001b[38;5;241m=\u001b[39m\u001b[38;5;124m\"\u001b[39m\u001b[38;5;124mdataset2\u001b[39m\u001b[38;5;124m\"\u001b[39m,\n\u001b[0;32m      7\u001b[0m                    seed\u001b[38;5;241m=\u001b[39m\u001b[38;5;241m42\u001b[39m,\n\u001b[0;32m      8\u001b[0m                   fixed\u001b[38;5;241m=\u001b[39m(\u001b[38;5;241m300\u001b[39m, \u001b[38;5;241m100\u001b[39m, \u001b[38;5;241m100\u001b[39m),\n\u001b[0;32m      9\u001b[0m                   oversample\u001b[38;5;241m=\u001b[39m\u001b[38;5;28;01mTrue\u001b[39;00m,\n\u001b[0;32m     10\u001b[0m                   group_prefix\u001b[38;5;241m=\u001b[39m\u001b[38;5;28;01mNone\u001b[39;00m)\n",
      "File \u001b[1;32m~\\anaconda3\\Lib\\site-packages\\splitfolders\\split.py:117\u001b[0m, in \u001b[0;36mfixed\u001b[1;34m(input, output, seed, fixed, oversample, group_prefix, move)\u001b[0m\n\u001b[0;32m    114\u001b[0m     \u001b[38;5;28;01mraise\u001b[39;00m \u001b[38;5;167;01mValueError\u001b[39;00m(\u001b[38;5;124m\"\u001b[39m\u001b[38;5;124m`fixed` should be an integer or a list of 2 or 3 integers\u001b[39m\u001b[38;5;124m\"\u001b[39m)\n\u001b[0;32m    116\u001b[0m \u001b[38;5;28;01mif\u001b[39;00m \u001b[38;5;28mlen\u001b[39m(fixed) \u001b[38;5;241m==\u001b[39m \u001b[38;5;241m3\u001b[39m \u001b[38;5;129;01mand\u001b[39;00m oversample:\n\u001b[1;32m--> 117\u001b[0m     \u001b[38;5;28;01mraise\u001b[39;00m \u001b[38;5;167;01mValueError\u001b[39;00m(\n\u001b[0;32m    118\u001b[0m         \u001b[38;5;124m\"\u001b[39m\u001b[38;5;124mUsing fixed with 3 values together with oversampling is not implemented.\u001b[39m\u001b[38;5;124m\"\u001b[39m\n\u001b[0;32m    119\u001b[0m     )\n\u001b[0;32m    121\u001b[0m check_input_format(\u001b[38;5;28minput\u001b[39m)\n\u001b[0;32m    123\u001b[0m \u001b[38;5;28;01mif\u001b[39;00m use_tqdm:\n",
      "\u001b[1;31mValueError\u001b[0m: Using fixed with 3 values together with oversampling is not implemented."
     ]
    }
   ],
   "source": [
    "splitfolders.ratio(data_path, output=\"dataset2\",\n",
    "                  seed=42,\n",
    "                  ratio=(.7, .2, .1),\n",
    "                  group_prefix = None)\n",
    "\n",
    "splitfolders.fixed(data_path, output=\"dataset2\",\n",
    "                   seed=42,\n",
    "                  fixed=(200, 200, 100),\n",
    "                  oversample=True,\n",
    "                  group_prefix=None)"
   ]
  }
 ],
 "metadata": {
  "accelerator": "GPU",
  "colab": {
   "collapsed_sections": [
    "TmOGDNw1Z-vV"
   ],
   "provenance": []
  },
  "kernelspec": {
   "display_name": "Python 3 (ipykernel)",
   "language": "python",
   "name": "python3"
  },
  "language_info": {
   "codemirror_mode": {
    "name": "ipython",
    "version": 3
   },
   "file_extension": ".py",
   "mimetype": "text/x-python",
   "name": "python",
   "nbconvert_exporter": "python",
   "pygments_lexer": "ipython3",
   "version": "3.11.5"
  }
 },
 "nbformat": 4,
 "nbformat_minor": 4
}
